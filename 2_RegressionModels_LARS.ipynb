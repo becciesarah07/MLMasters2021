{
 "cells": [
  {
   "cell_type": "markdown",
   "metadata": {},
   "source": [
    "# 2 Machine Learning Models"
   ]
  },
  {
   "cell_type": "markdown",
   "metadata": {},
   "source": [
    "## 2.3 LARS Regression"
   ]
  },
  {
   "cell_type": "markdown",
   "metadata": {},
   "source": [
    "This notebook runs the LARS linear regression model from the SciKit Learn python library (https://scikit-learn.org/stable/user_guide.html)."
   ]
  },
  {
   "cell_type": "markdown",
   "metadata": {},
   "source": [
    "The problem posed is to predict electricity consumption at a local (LSOA) level, the data is therefore continuous and numerical and is labelled. This lends to supervised machine learning (ML) and regression models.\n",
    "\n",
    "It is hypothesised that there will be a correlation between mean house price sales (as an indicator of general prosperity and condition of a property) and electricity consumption. This data has previously been cleaned, is read in and split into training and test data. Results are printed in line and exported to csv for comparison against other regression models."
   ]
  },
  {
   "cell_type": "markdown",
   "metadata": {},
   "source": [
    "The feature variables include: 'Year', 'Mean price paid', and OS coordinate location data for the population weighted centroid of the LSOAs."
   ]
  },
  {
   "cell_type": "markdown",
   "metadata": {},
   "source": [
    "Initially the models were tested with 'Year' and 'Mean price paid', followed by a second model run with all the above feature variables included."
   ]
  },
  {
   "cell_type": "markdown",
   "metadata": {},
   "source": [
    "## 2.3.1 Import Model Libraries"
   ]
  },
  {
   "cell_type": "markdown",
   "metadata": {},
   "source": [
    "Data handling and scientific libraries used include:\n",
    "\n",
    "numpy - (scientific numerical package for Python that enables working with arrays) pandas - (data analysis library) matplotlib - (enables plotting and visualisation in Python) openpyxl / load_workbook (opens Excel xlsx files)"
   ]
  },
  {
   "cell_type": "code",
   "execution_count": 1,
   "metadata": {},
   "outputs": [],
   "source": [
    "#Import Libraries"
   ]
  },
  {
   "cell_type": "code",
   "execution_count": 2,
   "metadata": {},
   "outputs": [],
   "source": [
    "import numpy as np\n",
    "import pandas as pd\n",
    "import matplotlib\n",
    "import matplotlib.pyplot as plt\n",
    "from openpyxl import load_workbook"
   ]
  },
  {
   "cell_type": "markdown",
   "metadata": {},
   "source": [
    "Imports the linear model from the SciKit Learn library."
   ]
  },
  {
   "cell_type": "code",
   "execution_count": 3,
   "metadata": {},
   "outputs": [],
   "source": [
    "#Import ML models"
   ]
  },
  {
   "cell_type": "code",
   "execution_count": 4,
   "metadata": {},
   "outputs": [],
   "source": [
    "from sklearn import linear_model\n",
    "\n",
    "#from sklearn.linear_model import LinearRegression\n",
    "#from sklearn.linear_model import Lasso\n",
    "#from sklearn.linear_model import Ridge\n",
    "#from sklearn.linear_model import ElasticNet\n",
    "#from sklearn.linear_model import HuberRegressor\n",
    "from sklearn.linear_model import Lars\n",
    "#from sklearn.linear_model import LassoLars\n",
    "#from sklearn.linear_model import PassiveAggressiveRegressor\n",
    "#from sklearn.linear_model import RANSACRegressor\n",
    "#from sklearn.linear_model import SGDRegressor\n",
    "#from sklearn.svm import SVR\n",
    "#from sklearn.tree import DecisionTreeRegressor\n",
    "#from sklearn.ensemble import RandomForestRegressor\n",
    "#from sklearn.ensemble import AdaBoostRegressor\n",
    "#from sklearn.neural_network import MLPRegressor\n",
    "#from sklearn.neighbors import KNeighborsRegressor\n"
   ]
  },
  {
   "cell_type": "markdown",
   "metadata": {},
   "source": [
    "Imports the standard error metric functions of Variance (explained variance), MAE, MSE and R2 from the SciKit Learn library.\n",
    "\n",
    "Explained variance is an indicator of whether the model is accounting for the variance in the dataset.\n",
    "\n",
    "MAE - is the real error averaged across the predicted values.\n",
    "\n",
    "MSE - is the square of the mean error, which indicates risk and the quality of the prediction. Values closer to zero are better.\n",
    "\n",
    "R squared or R2 'represents the proportion of variance (of y) that has been explained by the independent variables in the model. It provides an indication of goodness of fit and therefore a measure of how well unseen samples are likely to be predicted by the model, through the proportion of explained variance.'1 An R2 value closer to 1 indicates a good fit.\n",
    "\n",
    "1 - https://scikit-learn.org/stable/modules/model_evaluation.html#regression-metrics"
   ]
  },
  {
   "cell_type": "code",
   "execution_count": 5,
   "metadata": {},
   "outputs": [],
   "source": [
    "#Import Error Metrics"
   ]
  },
  {
   "cell_type": "code",
   "execution_count": 6,
   "metadata": {},
   "outputs": [],
   "source": [
    "from sklearn.metrics import explained_variance_score\n",
    "from sklearn.metrics import mean_absolute_error\n",
    "from sklearn.metrics import mean_squared_error\n",
    "from sklearn.metrics import r2_score"
   ]
  },
  {
   "cell_type": "code",
   "execution_count": 7,
   "metadata": {},
   "outputs": [],
   "source": [
    "#Import Test/Train split function"
   ]
  },
  {
   "cell_type": "code",
   "execution_count": 8,
   "metadata": {},
   "outputs": [],
   "source": [
    "from sklearn.model_selection import train_test_split"
   ]
  },
  {
   "cell_type": "markdown",
   "metadata": {},
   "source": [
    "## 2.3.2 Import Data & Split into Train/Test Data"
   ]
  },
  {
   "cell_type": "markdown",
   "metadata": {},
   "source": [
    "The train_test_split function allows you to defined test_size and train_size, if one isn't specified it is set as the complementary value.\n",
    "\n",
    "A training size of 0.75-0.8 is generally recommended. Sensitivity testing to the training size showed continuous improvement with a larger training size. Beyond 80% of the data for training may lead to overfitting hence selection at this point.\n",
    "\n",
    "Defining the random_state with an integer allows repetition across different Notebooks/model runs."
   ]
  },
  {
   "cell_type": "code",
   "execution_count": 9,
   "metadata": {},
   "outputs": [],
   "source": [
    "#Read in datafile"
   ]
  },
  {
   "cell_type": "code",
   "execution_count": 10,
   "metadata": {},
   "outputs": [],
   "source": [
    "df_LSOA_Location_Energy_Sales = pd.read_csv('1_DataCleaning/LSOA_Location_Energy_Sales.csv')"
   ]
  },
  {
   "cell_type": "code",
   "execution_count": 11,
   "metadata": {},
   "outputs": [],
   "source": [
    "#Split f_LSOA_Location_Energy_Sales dataset 80:20"
   ]
  },
  {
   "cell_type": "code",
   "execution_count": 12,
   "metadata": {},
   "outputs": [],
   "source": [
    "train, test = train_test_split(df_LSOA_Location_Energy_Sales, test_size=0.2, train_size=0.8, random_state=10)"
   ]
  },
  {
   "cell_type": "markdown",
   "metadata": {},
   "source": [
    "## 2.3.3 Model Set-up & Training"
   ]
  },
  {
   "cell_type": "markdown",
   "metadata": {},
   "source": [
    "The linear model is defined, as well as the training feature variables to be passed to the machine learning model.\n",
    "\n",
    "In the first instance 'Year' and 'Mean Price Paid' are selected as feature variables to predict 'Mean_domestic_electricity_consumption_kWh_per_meter'.\n",
    "\n",
    "The model is trained using .fit. \n",
    "\n",
    "This model is expected to predict with a better fit relatively than when either 'Year' or 'Mean Price Paid' were taken as the sole feature variable as plotting of the data shows a (weak) positive correlation.\n",
    "\n",
    "From the previous simple linear model runs it is expected that 'Mean Price Paid' is the more dominant feature variable, but there is expected to be some degree of annual correlation that together could provide a better fit model.\n",
    "\n",
    "However, as many factors affect electricity consumption it is expected that either a greater number of feature variables or a model better able to deal with variance/complexity in the data will provide a better fit.\n",
    "\n",
    "Location as a feature variable is expected to improve the model but could lead to overfitting. This will be explored further and through alternative machine learning models."
   ]
  },
  {
   "cell_type": "code",
   "execution_count": 13,
   "metadata": {},
   "outputs": [],
   "source": [
    "#Define the model"
   ]
  },
  {
   "cell_type": "code",
   "execution_count": 14,
   "metadata": {},
   "outputs": [],
   "source": [
    "regr = linear_model.Lars()"
   ]
  },
  {
   "cell_type": "markdown",
   "metadata": {},
   "source": [
    "## 2.3.3.1 - Model Training (Feature Variables = Mean Price Paid, Year)"
   ]
  },
  {
   "cell_type": "code",
   "execution_count": 15,
   "metadata": {},
   "outputs": [],
   "source": [
    "#First pass LARS regression model"
   ]
  },
  {
   "cell_type": "code",
   "execution_count": 16,
   "metadata": {},
   "outputs": [],
   "source": [
    "#Set the training data"
   ]
  },
  {
   "cell_type": "code",
   "execution_count": 17,
   "metadata": {},
   "outputs": [],
   "source": [
    "train_x = np.asanyarray(train[['Mean_price_paid','Year']])\n",
    "train_y = np.asanyarray(train[['Mean_domestic_electricity_consumption_kWh_per_meter']])"
   ]
  },
  {
   "cell_type": "code",
   "execution_count": 18,
   "metadata": {},
   "outputs": [],
   "source": [
    "#Train the model on the set training data"
   ]
  },
  {
   "cell_type": "code",
   "execution_count": 19,
   "metadata": {},
   "outputs": [
    {
     "data": {
      "text/plain": [
       "Lars(copy_X=True, eps=2.220446049250313e-16, fit_intercept=True,\n",
       "   fit_path=True, n_nonzero_coefs=500, normalize=True, positive=False,\n",
       "   precompute='auto', verbose=False)"
      ]
     },
     "execution_count": 19,
     "metadata": {},
     "output_type": "execute_result"
    }
   ],
   "source": [
    "regr.fit(train_x, train_y)"
   ]
  },
  {
   "cell_type": "code",
   "execution_count": 20,
   "metadata": {},
   "outputs": [],
   "source": [
    "#Predict results using the trained model and the previously defined test data"
   ]
  },
  {
   "cell_type": "code",
   "execution_count": 21,
   "metadata": {},
   "outputs": [],
   "source": [
    "y_hat= regr.predict(test[['Mean_price_paid','Year']])\n",
    "test_x = np.asanyarray(test[['Mean_price_paid','Year']])\n",
    "test_y = np.asanyarray(test[['Mean_domestic_electricity_consumption_kWh_per_meter']])"
   ]
  },
  {
   "cell_type": "code",
   "execution_count": 22,
   "metadata": {},
   "outputs": [],
   "source": [
    "#Recheck the shape of the data"
   ]
  },
  {
   "cell_type": "code",
   "execution_count": 23,
   "metadata": {},
   "outputs": [
    {
     "data": {
      "text/plain": [
       "(61982,)"
      ]
     },
     "execution_count": 23,
     "metadata": {},
     "output_type": "execute_result"
    }
   ],
   "source": [
    "y_hat.shape"
   ]
  },
  {
   "cell_type": "code",
   "execution_count": 24,
   "metadata": {},
   "outputs": [
    {
     "data": {
      "text/plain": [
       "(61982, 2)"
      ]
     },
     "execution_count": 24,
     "metadata": {},
     "output_type": "execute_result"
    }
   ],
   "source": [
    "test_x.shape"
   ]
  },
  {
   "cell_type": "code",
   "execution_count": 25,
   "metadata": {},
   "outputs": [
    {
     "data": {
      "text/plain": [
       "(61982, 1)"
      ]
     },
     "execution_count": 25,
     "metadata": {},
     "output_type": "execute_result"
    }
   ],
   "source": [
    "test_y.shape"
   ]
  },
  {
   "cell_type": "code",
   "execution_count": 26,
   "metadata": {},
   "outputs": [
    {
     "data": {
      "text/plain": [
       "(61982,)"
      ]
     },
     "execution_count": 26,
     "metadata": {},
     "output_type": "execute_result"
    }
   ],
   "source": [
    "test_y = np.squeeze(test_y)\n",
    "test_y.shape"
   ]
  },
  {
   "cell_type": "markdown",
   "metadata": {},
   "source": [
    "## 2.3.3.2 - Model Evaluation (Feature Variables = Mean Price Paid, Year)"
   ]
  },
  {
   "cell_type": "code",
   "execution_count": 27,
   "metadata": {},
   "outputs": [],
   "source": [
    "#Run evaluation metrics to check the model performance"
   ]
  },
  {
   "cell_type": "code",
   "execution_count": 28,
   "metadata": {},
   "outputs": [
    {
     "name": "stdout",
     "output_type": "stream",
     "text": [
      "Explained Variance Score: 0.21\n",
      "MAE: 532.92\n",
      "MSE: 604146.13\n",
      "R2-score: 0.21\n"
     ]
    }
   ],
   "source": [
    "print(\"Explained Variance Score: %.2f\" % explained_variance_score(test_y, y_hat))\n",
    "print(\"MAE: %.2f\" % mean_absolute_error(test_y, y_hat))\n",
    "print(\"MSE: %.2f\" % mean_squared_error(test_y, y_hat))\n",
    "print(\"R2-score: %.2f\" % r2_score(test_y, y_hat))"
   ]
  },
  {
   "cell_type": "markdown",
   "metadata": {},
   "source": [
    "Explained Variance - is low, showing that the model doesn't deal well with the variance in the model.\n",
    "\n",
    "MAE - the MAE is improved over the single variate model runs but still high, which would not be considered accurate enough for industry use. Although in this instance as the measure of fitness and quality of prediction are also very low these collectively indicate the model is not reliable.\n",
    "\n",
    "MSE - is very high, reflecting a high risk of a low quality prediction.\n",
    "\n",
    "R2 - is low demonstrating the model has poor 'fit' and doesn't deal well with the variance in the model."
   ]
  },
  {
   "cell_type": "markdown",
   "metadata": {},
   "source": [
    "The Lasso linear model does not perform any better than the simple Linear_Regression model. This is not unexpected, but a range of linear models are checked to determine whether any perform relatively better."
   ]
  },
  {
   "cell_type": "markdown",
   "metadata": {},
   "source": [
    "## 2.3.3.3 - Model Training (Feature Variables = Mean Price Paid, Year, Location)"
   ]
  },
  {
   "cell_type": "code",
   "execution_count": 29,
   "metadata": {},
   "outputs": [],
   "source": [
    "#First pass LARS regression model"
   ]
  },
  {
   "cell_type": "code",
   "execution_count": 30,
   "metadata": {},
   "outputs": [],
   "source": [
    "#Set the training data"
   ]
  },
  {
   "cell_type": "code",
   "execution_count": 31,
   "metadata": {},
   "outputs": [],
   "source": [
    "train_x2 = np.asanyarray(train[['Mean_price_paid','Year', 'X', 'Y']])\n",
    "train_y2 = np.asanyarray(train[['Mean_domestic_electricity_consumption_kWh_per_meter']])"
   ]
  },
  {
   "cell_type": "code",
   "execution_count": 32,
   "metadata": {},
   "outputs": [],
   "source": [
    "#Train the model on the set training data"
   ]
  },
  {
   "cell_type": "code",
   "execution_count": 33,
   "metadata": {},
   "outputs": [
    {
     "data": {
      "text/plain": [
       "Lars(copy_X=True, eps=2.220446049250313e-16, fit_intercept=True,\n",
       "   fit_path=True, n_nonzero_coefs=500, normalize=True, positive=False,\n",
       "   precompute='auto', verbose=False)"
      ]
     },
     "execution_count": 33,
     "metadata": {},
     "output_type": "execute_result"
    }
   ],
   "source": [
    "regr.fit(train_x2, train_y2)"
   ]
  },
  {
   "cell_type": "code",
   "execution_count": 34,
   "metadata": {},
   "outputs": [],
   "source": [
    "#Predict results using the trained model and the previously defined test data"
   ]
  },
  {
   "cell_type": "code",
   "execution_count": 35,
   "metadata": {},
   "outputs": [],
   "source": [
    "y_hat2= regr.predict(test[['Mean_price_paid','Year', 'X', 'Y']])\n",
    "test_x2 = np.asanyarray(test[['Mean_price_paid','Year', 'X', 'Y']])\n",
    "test_y2 = np.asanyarray(test[['Mean_domestic_electricity_consumption_kWh_per_meter']])"
   ]
  },
  {
   "cell_type": "code",
   "execution_count": 36,
   "metadata": {},
   "outputs": [],
   "source": [
    "#Recheck the shape of the data"
   ]
  },
  {
   "cell_type": "code",
   "execution_count": 37,
   "metadata": {},
   "outputs": [
    {
     "data": {
      "text/plain": [
       "(61982,)"
      ]
     },
     "execution_count": 37,
     "metadata": {},
     "output_type": "execute_result"
    }
   ],
   "source": [
    "y_hat2.shape"
   ]
  },
  {
   "cell_type": "code",
   "execution_count": 38,
   "metadata": {},
   "outputs": [
    {
     "data": {
      "text/plain": [
       "(61982, 4)"
      ]
     },
     "execution_count": 38,
     "metadata": {},
     "output_type": "execute_result"
    }
   ],
   "source": [
    "test_x2.shape"
   ]
  },
  {
   "cell_type": "code",
   "execution_count": 39,
   "metadata": {},
   "outputs": [
    {
     "data": {
      "text/plain": [
       "(61982, 1)"
      ]
     },
     "execution_count": 39,
     "metadata": {},
     "output_type": "execute_result"
    }
   ],
   "source": [
    "test_y2.shape"
   ]
  },
  {
   "cell_type": "code",
   "execution_count": 40,
   "metadata": {},
   "outputs": [
    {
     "data": {
      "text/plain": [
       "(61982,)"
      ]
     },
     "execution_count": 40,
     "metadata": {},
     "output_type": "execute_result"
    }
   ],
   "source": [
    "test_y2 = np.squeeze(test_y2)\n",
    "test_y2.shape"
   ]
  },
  {
   "cell_type": "markdown",
   "metadata": {},
   "source": [
    "## 2.3.3.4 - Model Evaluation (Feature Variables = Mean Price Paid, Year, Location)"
   ]
  },
  {
   "cell_type": "code",
   "execution_count": 41,
   "metadata": {},
   "outputs": [],
   "source": [
    "#Run evaluation metrics to check the model performance"
   ]
  },
  {
   "cell_type": "code",
   "execution_count": 42,
   "metadata": {},
   "outputs": [
    {
     "name": "stdout",
     "output_type": "stream",
     "text": [
      "Explained Variance Score: 0.22\n",
      "MAE: 531.93\n",
      "MSE: 599471.67\n",
      "R2-score: 0.22\n"
     ]
    }
   ],
   "source": [
    "print(\"Explained Variance Score: %.2f\" % explained_variance_score(test_y2 , y_hat2))\n",
    "print(\"MAE: %.2f\" % mean_absolute_error(test_y2, y_hat2))\n",
    "print(\"MSE: %.2f\" % mean_squared_error(test_y2, y_hat2))\n",
    "print(\"R2-score: %.2f\" % r2_score(test_y2, y_hat2))"
   ]
  },
  {
   "cell_type": "markdown",
   "metadata": {},
   "source": [
    "Explained Variance - is low, showing that the model doesn't deal well with the variance in the model.\n",
    "\n",
    "MAE - the MAE is improved over the single variate model runs but still high, which would not be considered accurate enough for industry use. Although in this instance as the measure of fitness and quality of prediction are also very low these collectively indicate the model is not reliable.\n",
    "\n",
    "MSE - is very high, reflecting a high risk of a low quality prediction.\n",
    "\n",
    "R2 - is low demonstrating the model has poor 'fit' and doesn't deal well with the variance in the model."
   ]
  },
  {
   "cell_type": "markdown",
   "metadata": {},
   "source": [
    "The Lasso linear model does not perform any better than the simple Linear_Regression model. This is not unexpected, but a range of linear models are checked to determine whether any perform relatively better."
   ]
  },
  {
   "cell_type": "markdown",
   "metadata": {},
   "source": [
    "## 2.3.4 Results Export"
   ]
  },
  {
   "cell_type": "code",
   "execution_count": 43,
   "metadata": {},
   "outputs": [],
   "source": [
    "#Set up dataframe for results"
   ]
  },
  {
   "cell_type": "code",
   "execution_count": 44,
   "metadata": {},
   "outputs": [],
   "source": [
    "df_Results = None"
   ]
  },
  {
   "cell_type": "code",
   "execution_count": 45,
   "metadata": {},
   "outputs": [],
   "source": [
    "#Print results to the dataframe"
   ]
  },
  {
   "cell_type": "code",
   "execution_count": 46,
   "metadata": {},
   "outputs": [],
   "source": [
    "df_Results = pd.DataFrame({'Explained Variance Score': [explained_variance_score(test_y , y_hat), explained_variance_score(test_y2 , y_hat2)]},\n",
    "                  index=['LARS_Year_Price', 'LARS_Year_Price_X_Y'])"
   ]
  },
  {
   "cell_type": "code",
   "execution_count": 47,
   "metadata": {},
   "outputs": [],
   "source": [
    "df_Results.insert(1,'MAE', [mean_absolute_error(test_y , y_hat), mean_absolute_error(test_y2 , y_hat2)])"
   ]
  },
  {
   "cell_type": "code",
   "execution_count": 48,
   "metadata": {},
   "outputs": [],
   "source": [
    "df_Results.insert(2, 'MSE', [mean_squared_error(test_y , y_hat), mean_squared_error(test_y2 , y_hat2)])"
   ]
  },
  {
   "cell_type": "code",
   "execution_count": 49,
   "metadata": {},
   "outputs": [],
   "source": [
    "df_Results.insert(3,'R2-score', [r2_score(test_y , y_hat), r2_score(test_y2 , y_hat2)])"
   ]
  },
  {
   "cell_type": "code",
   "execution_count": 50,
   "metadata": {},
   "outputs": [],
   "source": [
    "df_Results.insert(0, 'Model', 'LARS')"
   ]
  },
  {
   "cell_type": "code",
   "execution_count": 51,
   "metadata": {},
   "outputs": [],
   "source": [
    "df_Results.insert(1, 'Feature Variables', ['Year, Price', 'Year, Price, X, Y'])"
   ]
  },
  {
   "cell_type": "code",
   "execution_count": 52,
   "metadata": {},
   "outputs": [],
   "source": [
    "#Check dataframe "
   ]
  },
  {
   "cell_type": "code",
   "execution_count": 53,
   "metadata": {},
   "outputs": [
    {
     "data": {
      "text/html": [
       "<div>\n",
       "<style scoped>\n",
       "    .dataframe tbody tr th:only-of-type {\n",
       "        vertical-align: middle;\n",
       "    }\n",
       "\n",
       "    .dataframe tbody tr th {\n",
       "        vertical-align: top;\n",
       "    }\n",
       "\n",
       "    .dataframe thead th {\n",
       "        text-align: right;\n",
       "    }\n",
       "</style>\n",
       "<table border=\"1\" class=\"dataframe\">\n",
       "  <thead>\n",
       "    <tr style=\"text-align: right;\">\n",
       "      <th></th>\n",
       "      <th>Model</th>\n",
       "      <th>Feature Variables</th>\n",
       "      <th>Explained Variance Score</th>\n",
       "      <th>MAE</th>\n",
       "      <th>MSE</th>\n",
       "      <th>R2-score</th>\n",
       "    </tr>\n",
       "  </thead>\n",
       "  <tbody>\n",
       "    <tr>\n",
       "      <th>LARS_Year_Price</th>\n",
       "      <td>LARS</td>\n",
       "      <td>Year, Price</td>\n",
       "      <td>0.210802</td>\n",
       "      <td>532.916798</td>\n",
       "      <td>604146.130784</td>\n",
       "      <td>0.210797</td>\n",
       "    </tr>\n",
       "    <tr>\n",
       "      <th>LARS_Year_Price_X_Y</th>\n",
       "      <td>LARS</td>\n",
       "      <td>Year, Price, X, Y</td>\n",
       "      <td>0.216908</td>\n",
       "      <td>531.933287</td>\n",
       "      <td>599471.668518</td>\n",
       "      <td>0.216903</td>\n",
       "    </tr>\n",
       "  </tbody>\n",
       "</table>\n",
       "</div>"
      ],
      "text/plain": [
       "                    Model  Feature Variables  Explained Variance Score  \\\n",
       "LARS_Year_Price      LARS        Year, Price                  0.210802   \n",
       "LARS_Year_Price_X_Y  LARS  Year, Price, X, Y                  0.216908   \n",
       "\n",
       "                            MAE            MSE  R2-score  \n",
       "LARS_Year_Price      532.916798  604146.130784  0.210797  \n",
       "LARS_Year_Price_X_Y  531.933287  599471.668518  0.216903  "
      ]
     },
     "execution_count": 53,
     "metadata": {},
     "output_type": "execute_result"
    }
   ],
   "source": [
    "df_Results.head()"
   ]
  },
  {
   "cell_type": "code",
   "execution_count": 54,
   "metadata": {},
   "outputs": [],
   "source": [
    "#Export results to csv"
   ]
  },
  {
   "cell_type": "code",
   "execution_count": 55,
   "metadata": {},
   "outputs": [],
   "source": [
    "df_Results.to_csv('2_ModelResults/LARS_Results.csv')"
   ]
  },
  {
   "cell_type": "code",
   "execution_count": 56,
   "metadata": {},
   "outputs": [],
   "source": [
    "#END"
   ]
  }
 ],
 "metadata": {
  "kernelspec": {
   "display_name": "Python 3",
   "language": "python",
   "name": "python3"
  },
  "language_info": {
   "codemirror_mode": {
    "name": "ipython",
    "version": 3
   },
   "file_extension": ".py",
   "mimetype": "text/x-python",
   "name": "python",
   "nbconvert_exporter": "python",
   "pygments_lexer": "ipython3",
   "version": "3.6.5"
  }
 },
 "nbformat": 4,
 "nbformat_minor": 2
}
