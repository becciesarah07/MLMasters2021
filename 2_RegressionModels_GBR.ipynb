{
 "cells": [
  {
   "cell_type": "markdown",
   "metadata": {},
   "source": [
    "# 2 Machine Learning Models"
   ]
  },
  {
   "cell_type": "markdown",
   "metadata": {},
   "source": [
    "## 2.X Gradient Boosting Regression"
   ]
  },
  {
   "cell_type": "markdown",
   "metadata": {},
   "source": [
    "This notebook runs the Gradient Boosting regression model (an ensemble method where at 'each stage a regression tree is fit on the negative gradient of the given loss function') from the SciKit Learn python library (https://scikit-learn.org/stable/modules/generated/sklearn.ensemble.GradientBoostingRegressor.html#sklearn.ensemble.GradientBoostingRegressor)."
   ]
  },
  {
   "cell_type": "markdown",
   "metadata": {},
   "source": [
    "The problem posed is to predict electricity consumption at a local (LSOA) level, the data is therefore continuous and numerical and is labelled. This lends to supervised machine learning (ML) and regression models.\n",
    "\n",
    "It is hypothesised that there will be a correlation between mean house price sales (as an indicator of general prosperity and condition of a property) and electricity consumption. This data has previously been cleaned, is read in and split into training and test data. Results are printed in line and exported to csv for comparison against other regression models."
   ]
  },
  {
   "cell_type": "markdown",
   "metadata": {},
   "source": [
    "The feature variables include: 'Year', 'Mean price paid', and OS coordinate location data for the population weighted centroid of the LSOAs."
   ]
  },
  {
   "cell_type": "markdown",
   "metadata": {},
   "source": [
    "Initially the models were tested with 'Year' and 'Mean price paid', followed by a second model run with all the above feature variables included."
   ]
  },
  {
   "cell_type": "markdown",
   "metadata": {},
   "source": [
    "Random Forest has several hyperparameters that are used to refine the model. The hyperparameters varied within the below model runs are:\n",
    "\n",
    "Number of estimators - which is the number of trees in the forest, the default is set to 100 and increasing substantially has a knock on to run time.\n",
    "Criterion - whether the model averages based on MSE or MAE. MSE is substantially faster, with MAE throwing runtime and memory issues. Whilst MAE could be a better predictor this has therefore not been explored.\n",
    "Maximum depth of the tree - aka number of branches - the default is none with the model running until pure.\n",
    "Random State - randomness of samples taken and also randomness of features considered at each node / branch. It is not known what effect this will on the model.\n",
    "All other hyperparameters are not specified and set to the default values."
   ]
  },
  {
   "cell_type": "markdown",
   "metadata": {},
   "source": [
    "## 2.3.1 Import Model Libraries"
   ]
  },
  {
   "cell_type": "markdown",
   "metadata": {},
   "source": [
    "Data handling and scientific libraries used include:\n",
    "\n",
    "numpy - (scientific numerical package for Python that enables working with arrays) pandas - (data analysis library) matplotlib - (enables plotting and visualisation in Python) openpyxl / load_workbook (opens Excel xlsx files)"
   ]
  },
  {
   "cell_type": "code",
   "execution_count": 57,
   "metadata": {},
   "outputs": [],
   "source": [
    "#Import Libraries"
   ]
  },
  {
   "cell_type": "code",
   "execution_count": 58,
   "metadata": {},
   "outputs": [],
   "source": [
    "import numpy as np\n",
    "import pandas as pd\n",
    "import matplotlib\n",
    "import matplotlib.pyplot as plt\n",
    "from openpyxl import load_workbook"
   ]
  },
  {
   "cell_type": "markdown",
   "metadata": {},
   "source": [
    "Imports the Gradient Boosting Regressor model from the SciKit Learn ensemble library."
   ]
  },
  {
   "cell_type": "code",
   "execution_count": 59,
   "metadata": {},
   "outputs": [],
   "source": [
    "#Import ML models"
   ]
  },
  {
   "cell_type": "code",
   "execution_count": 60,
   "metadata": {},
   "outputs": [],
   "source": [
    "from sklearn.ensemble import GradientBoostingRegressor\n",
    "\n",
    "#from sklearn.linear_model import LinearRegression\n",
    "#from sklearn.linear_model import Lasso\n",
    "#from sklearn.linear_model import Ridge\n",
    "#from sklearn.linear_model import ElasticNet\n",
    "#from sklearn.linear_model import HuberRegressor\n",
    "#from sklearn.linear_model import Lars\n",
    "#from sklearn.linear_model import LassoLars\n",
    "#from sklearn.linear_model import PassiveAggressiveRegressor\n",
    "#from sklearn.linear_model import RANSACRegressor\n",
    "#from sklearn.linear_model import SGDRegressor\n",
    "\n",
    "#from sklearn.ensemble import AdaBoostRegressor\n",
    "#from sklearn.neural_network import MLPRegressor\n",
    "#from sklearn.tree import DecisionTreeRegressor\n",
    "#from sklearn.ensemble import RandomForestRegressor\n",
    "#from sklearn.neighbors import KNeighborsRegressor\n"
   ]
  },
  {
   "cell_type": "markdown",
   "metadata": {},
   "source": [
    "Imports the standard error metric functions of Variance (explained variance), MAE, MSE and R2 from the SciKit Learn library.\n",
    "\n",
    "Explained variance is an indicator of whether the model is accounting for the variance in the dataset.\n",
    "\n",
    "MAE - is the real error averaged across the predicted values.\n",
    "\n",
    "MSE - is the square of the mean error, which indicates risk and the quality of the prediction. Values closer to zero are better.\n",
    "\n",
    "R squared or R2 'represents the proportion of variance (of y) that has been explained by the independent variables in the model. It provides an indication of goodness of fit and therefore a measure of how well unseen samples are likely to be predicted by the model, through the proportion of explained variance.'1 An R2 value closer to 1 indicates a good fit.\n",
    "\n",
    "1 - https://scikit-learn.org/stable/modules/model_evaluation.html#regression-metrics"
   ]
  },
  {
   "cell_type": "code",
   "execution_count": 61,
   "metadata": {},
   "outputs": [],
   "source": [
    "#Import Error Metrics"
   ]
  },
  {
   "cell_type": "code",
   "execution_count": 62,
   "metadata": {},
   "outputs": [],
   "source": [
    "from sklearn.metrics import explained_variance_score\n",
    "from sklearn.metrics import mean_absolute_error\n",
    "from sklearn.metrics import mean_squared_error\n",
    "from sklearn.metrics import r2_score"
   ]
  },
  {
   "cell_type": "code",
   "execution_count": 63,
   "metadata": {},
   "outputs": [],
   "source": [
    "#Import Test/Train split function"
   ]
  },
  {
   "cell_type": "code",
   "execution_count": 64,
   "metadata": {},
   "outputs": [],
   "source": [
    "from sklearn.model_selection import train_test_split"
   ]
  },
  {
   "cell_type": "markdown",
   "metadata": {},
   "source": [
    "## 2.3.2 Import Data & Split into Train/Test Data"
   ]
  },
  {
   "cell_type": "markdown",
   "metadata": {},
   "source": [
    "The train_test_split function allows you to defined test_size and train_size, if one isn't specified it is set as the complementary value.\n",
    "\n",
    "A training size of 0.75-0.8 is generally recommended. Sensitivity testing to the training size showed continuous improvement with a larger training size. Beyond 80% of the data for training may lead to overfitting hence selection at this point.\n",
    "\n",
    "Defining the random_state with an integer allows repetition across different Notebooks/model runs."
   ]
  },
  {
   "cell_type": "code",
   "execution_count": 65,
   "metadata": {},
   "outputs": [],
   "source": [
    "#Read in datafile"
   ]
  },
  {
   "cell_type": "code",
   "execution_count": 66,
   "metadata": {},
   "outputs": [],
   "source": [
    "df_LSOA_Location_Energy_Sales = pd.read_csv('1_DataCleaning/LSOA_Location_Energy_Sales.csv')"
   ]
  },
  {
   "cell_type": "code",
   "execution_count": 67,
   "metadata": {},
   "outputs": [],
   "source": [
    "#Split df_LSOA_Location_Energy_Sales dataset 80:20"
   ]
  },
  {
   "cell_type": "code",
   "execution_count": 68,
   "metadata": {},
   "outputs": [],
   "source": [
    "train, test = train_test_split(df_LSOA_Location_Energy_Sales, test_size=0.2, train_size=0.8, random_state=10)"
   ]
  },
  {
   "cell_type": "markdown",
   "metadata": {},
   "source": [
    "## 2.3.3 Model Set-up, Training, Prediction & Evaluation"
   ]
  },
  {
   "cell_type": "markdown",
   "metadata": {},
   "source": [
    "The model function undertakes the following steps:\n",
    "\n",
    "1. The model is defined, taking the feature variables and hyperparameters as arguments.\n",
    "\n",
    "2. The model is trained using .fit on the specified training data.\n",
    "\n",
    "3. The model is run using .predict on the feature variables.\n",
    "\n",
    "4. Evaluation metrics are printed to screen, stored in a dataframe and plotted (against number of neighbors).\n",
    "\n",
    "The function returns the dataframe of evaluation metrics."
   ]
  },
  {
   "cell_type": "code",
   "execution_count": 69,
   "metadata": {},
   "outputs": [],
   "source": [
    "max_depth = [5, 10, 15, 20, 25, 30, 35, 40]"
   ]
  },
  {
   "cell_type": "code",
   "execution_count": 70,
   "metadata": {},
   "outputs": [],
   "source": [
    "def GradientBoosting(feature_variables, loss, learning_rate, n_estimators, criterion, max_depth, random_state):\n",
    "         \n",
    "    #Define empty dataframe\n",
    "    df_Results = None\n",
    "    \n",
    "    #Fit & Run model\n",
    "    for d in max_depth:\n",
    "        #Define the model\n",
    "        regr = GradientBoostingRegressor(loss=loss, learning_rate=learning_rate, n_estimators=n_estimators, criterion=criterion, max_depth=d, random_state=random_state)\n",
    "        \n",
    "        #Set the training data\n",
    "        x_train = np.asanyarray(train[feature_variables])\n",
    "        y_train = np.asanyarray(train[['Mean_domestic_electricity_consumption_kWh_per_meter']])\n",
    "        \n",
    "        #Train the model on the set training data\n",
    "        regr.fit(x_train, y_train.ravel())\n",
    "        \n",
    "        #Predict results using the trained model and the previously defined test data\n",
    "        y_hat = regr.predict(test[feature_variables])\n",
    "    \n",
    "        x_test = np.asanyarray(test[feature_variables])\n",
    "        y_test = np.asanyarray(test[['Mean_domestic_electricity_consumption_kWh_per_meter']])\n",
    "        \n",
    "        #Check the shape of the data\n",
    "        y_test = np.squeeze(y_test)\n",
    "        y_test.shape\n",
    "        \n",
    "        #Run evaluation metrics to check the model performance & print results to notebook\n",
    "        print(\"GradientBoosting: max_depth=%.2f\" % d, feature_variables)\n",
    "        print(\"Explained Variance Score: %.2f\" % explained_variance_score(y_test, y_hat))\n",
    "        print(\"MAE: %.2f\" % mean_absolute_error(y_test, y_hat))\n",
    "        print(\"MSE: %.2f\" % mean_squared_error(y_test, y_hat))\n",
    "        print(\"R2-score: %.2f\" % r2_score(y_test, y_hat))\n",
    "        print(\" \")\n",
    "        \n",
    "        #Plot the results\n",
    "        #plt.figure()\n",
    "        #plt.scatter(x_test, y_test, s=5, edgecolor=\"black\", c=\"black\", label=\"data\")\n",
    "        #plt.plot(x_test, y_hat, color=\"cornflowerblue\", label=\"max_depth=%.2f\" % d, linewidth=1)\n",
    "        #plt.xlabel(\"data\")\n",
    "        #plt.ylabel(\"target\")\n",
    "        #plt.title(\"Decision Tree Regression\")\n",
    "        #plt.legend()\n",
    "        #plt.show()\n",
    "        \n",
    "        #Set up temporary results df\n",
    "        df = None\n",
    "        df = pd.DataFrame({'Explained Variance Score': [explained_variance_score(y_test, y_hat)]},\n",
    "                  index=[\"GradientBoosting: max_depth=%.2f\" % d])\n",
    "        df.insert(1,'MAE', mean_absolute_error(y_test, y_hat))\n",
    "        df.insert(2,'MSE', mean_squared_error(y_test, y_hat))\n",
    "        df.insert(3,'R2_score', r2_score(y_test, y_hat))\n",
    "        df.insert(0, 'Model', 'GradientBoosting')\n",
    "        df.insert(1, 'max_depth', d)\n",
    "        df.insert(2, 'Feature Variables', [feature_variables])                          \n",
    "        \n",
    "        #Add each df to master df\n",
    "        if df_Results is None:\n",
    "            df_Results = df\n",
    "        else:\n",
    "            df_Results = pd.concat([df_Results, df], axis=0)                   \n",
    "    \n",
    "    #Plot learning curve of R2_score\n",
    "    plt.scatter(df_Results.max_depth, df_Results.R2_score)\n",
    "    plt.xlabel(\"max_depth\")\n",
    "    plt.ylabel(\"R2_score\")\n",
    "    plt.title(\"Gradient Boosting Learning Curve - R2\")\n",
    "    plt.show()\n",
    "\n",
    "    #Plot learning curve of MAE\n",
    "    plt.scatter(df_Results.max_depth, df_Results.MAE)\n",
    "    plt.xlabel(\"max_depth\")\n",
    "    plt.ylabel(\"MAE\")\n",
    "    plt.title(\"Gradient Boosting Learning Curve - MAE\")\n",
    "    plt.show()\n",
    "    \n",
    "    return df_Results       \n",
    "    "
   ]
  },
  {
   "cell_type": "markdown",
   "metadata": {},
   "source": [
    "## 2.3.3.1 - Model Training & Evaluation (Feature Variables = Mean Price Paid, Year)"
   ]
  },
  {
   "cell_type": "markdown",
   "metadata": {},
   "source": [
    "In the first instance 'Year' and 'Mean Price Paid' are selected as feature variables to predict 'Mean_domestic_electricity_consumption_kWh_per_meter'.\n",
    "\n",
    "This model is expected to predict with a better fit relatively than the linear models where either 'Year' or 'Mean Price Paid' were taken as the sole feature variable as plotting of the data shows a (weak) positive correlation. From the previous simple linear model runs it is expected that 'Mean Price Paid' is the more dominant feature variable, but there is expected to be some degree of annual correlation that together could provide a better fit model.\n",
    "\n",
    "The Gradient Boosting algorithm may be better at handling the variance in the data set but is still not expected to have an objectively good fit when only the above two feature variables are selected.\n",
    "\n",
    "As many factors affect electricity consumption it is expected that either a greater number of feature variables (or a model better able to deal with variance/complexity in the data) will provide a better fit. Noting that Random Forest is hypothesized to be one of the algorithms better able to fit to the dataset."
   ]
  },
  {
   "cell_type": "markdown",
   "metadata": {},
   "source": [
    "Gradient Boosting has several hyperparameters that are used to refine the model. The hyperparameters varied within the below model runs are:\n",
    "\n",
    "1. Number of estimators - which is the number of trees in the forest, the default is set to 100 and increasing substantially has a knock on to run time.\n",
    "2. Criterion - whether the model averages based on MSE or MAE. MSE is substantially faster, with MAE throwing runtime and memory issues. Whilst MAE could be a better predictor this has therefore not been explored.\n",
    "3. Maximum depth of the tree - aka number of branches - the default is none with the model running until pure. The below runs through a series of model runs over a range of max_depth between 5 to 30, and none, to determine which max_depth provides the best fit model.\n",
    "4. Random State - It is not known the impact of this hyperparameter so a series of runs have again been trialled, on this occasion set to zero.\n",
    "\n",
    "All other hyperparameters are not specified and set to the default values."
   ]
  },
  {
   "cell_type": "code",
   "execution_count": 71,
   "metadata": {},
   "outputs": [],
   "source": [
    "max_depth = [5, 10, 15, 20]"
   ]
  },
  {
   "cell_type": "code",
   "execution_count": 72,
   "metadata": {},
   "outputs": [
    {
     "name": "stdout",
     "output_type": "stream",
     "text": [
      "GradientBoosting: max_depth=5.00 ['Mean_price_paid', 'Year']\n",
      "Explained Variance Score: 0.29\n",
      "MAE: 502.26\n",
      "MSE: 544044.45\n",
      "R2-score: 0.29\n",
      " \n",
      "GradientBoosting: max_depth=10.00 ['Mean_price_paid', 'Year']\n",
      "Explained Variance Score: 0.28\n",
      "MAE: 504.67\n",
      "MSE: 550486.74\n",
      "R2-score: 0.28\n",
      " \n",
      "GradientBoosting: max_depth=15.00 ['Mean_price_paid', 'Year']\n",
      "Explained Variance Score: 0.25\n",
      "MAE: 515.00\n",
      "MSE: 575616.01\n",
      "R2-score: 0.25\n",
      " \n",
      "GradientBoosting: max_depth=20.00 ['Mean_price_paid', 'Year']\n",
      "Explained Variance Score: 0.18\n",
      "MAE: 538.03\n",
      "MSE: 626635.83\n",
      "R2-score: 0.18\n",
      " \n"
     ]
    },
    {
     "data": {
      "image/png": "[encoded data removed]",
      "text/plain": [
       "<Figure size 432x288 with 1 Axes>"
      ]
     },
     "metadata": {},
     "output_type": "display_data"
    },
    {
     "data": {
      "image/png": "[encoded data removed]",
      "text/plain": [
       "<Figure size 432x288 with 1 Axes>"
      ]
     },
     "metadata": {},
     "output_type": "display_data"
    }
   ],
   "source": [
    "df_Results_1 = GradientBoosting(['Mean_price_paid','Year'], 'ls', 0.1, 100, 'friedman_mse', max_depth, 0)"
   ]
  },
  {
   "cell_type": "code",
   "execution_count": 73,
   "metadata": {},
   "outputs": [
    {
     "data": {
      "text/html": [
       "<div>\n",
       "<style scoped>\n",
       "    .dataframe tbody tr th:only-of-type {\n",
       "        vertical-align: middle;\n",
       "    }\n",
       "\n",
       "    .dataframe tbody tr th {\n",
       "        vertical-align: top;\n",
       "    }\n",
       "\n",
       "    .dataframe thead th {\n",
       "        text-align: right;\n",
       "    }\n",
       "</style>\n",
       "<table border=\"1\" class=\"dataframe\">\n",
       "  <thead>\n",
       "    <tr style=\"text-align: right;\">\n",
       "      <th></th>\n",
       "      <th>Model</th>\n",
       "      <th>max_depth</th>\n",
       "      <th>Feature Variables</th>\n",
       "      <th>Explained Variance Score</th>\n",
       "      <th>MAE</th>\n",
       "      <th>MSE</th>\n",
       "      <th>R2_score</th>\n",
       "    </tr>\n",
       "  </thead>\n",
       "  <tbody>\n",
       "    <tr>\n",
       "      <th>GradientBoosting: max_depth=5.00</th>\n",
       "      <td>GradientBoosting</td>\n",
       "      <td>5</td>\n",
       "      <td>[Mean_price_paid, Year]</td>\n",
       "      <td>0.289309</td>\n",
       "      <td>502.261023</td>\n",
       "      <td>544044.447360</td>\n",
       "      <td>0.289309</td>\n",
       "    </tr>\n",
       "    <tr>\n",
       "      <th>GradientBoosting: max_depth=10.00</th>\n",
       "      <td>GradientBoosting</td>\n",
       "      <td>10</td>\n",
       "      <td>[Mean_price_paid, Year]</td>\n",
       "      <td>0.280893</td>\n",
       "      <td>504.670381</td>\n",
       "      <td>550486.739724</td>\n",
       "      <td>0.280893</td>\n",
       "    </tr>\n",
       "    <tr>\n",
       "      <th>GradientBoosting: max_depth=15.00</th>\n",
       "      <td>GradientBoosting</td>\n",
       "      <td>15</td>\n",
       "      <td>[Mean_price_paid, Year]</td>\n",
       "      <td>0.248066</td>\n",
       "      <td>515.000579</td>\n",
       "      <td>575616.014255</td>\n",
       "      <td>0.248066</td>\n",
       "    </tr>\n",
       "    <tr>\n",
       "      <th>GradientBoosting: max_depth=20.00</th>\n",
       "      <td>GradientBoosting</td>\n",
       "      <td>20</td>\n",
       "      <td>[Mean_price_paid, Year]</td>\n",
       "      <td>0.181419</td>\n",
       "      <td>538.034831</td>\n",
       "      <td>626635.827955</td>\n",
       "      <td>0.181419</td>\n",
       "    </tr>\n",
       "  </tbody>\n",
       "</table>\n",
       "</div>"
      ],
      "text/plain": [
       "                                              Model  max_depth  \\\n",
       "GradientBoosting: max_depth=5.00   GradientBoosting          5   \n",
       "GradientBoosting: max_depth=10.00  GradientBoosting         10   \n",
       "GradientBoosting: max_depth=15.00  GradientBoosting         15   \n",
       "GradientBoosting: max_depth=20.00  GradientBoosting         20   \n",
       "\n",
       "                                         Feature Variables  \\\n",
       "GradientBoosting: max_depth=5.00   [Mean_price_paid, Year]   \n",
       "GradientBoosting: max_depth=10.00  [Mean_price_paid, Year]   \n",
       "GradientBoosting: max_depth=15.00  [Mean_price_paid, Year]   \n",
       "GradientBoosting: max_depth=20.00  [Mean_price_paid, Year]   \n",
       "\n",
       "                                   Explained Variance Score         MAE  \\\n",
       "GradientBoosting: max_depth=5.00                   0.289309  502.261023   \n",
       "GradientBoosting: max_depth=10.00                  0.280893  504.670381   \n",
       "GradientBoosting: max_depth=15.00                  0.248066  515.000579   \n",
       "GradientBoosting: max_depth=20.00                  0.181419  538.034831   \n",
       "\n",
       "                                             MSE  R2_score  \n",
       "GradientBoosting: max_depth=5.00   544044.447360  0.289309  \n",
       "GradientBoosting: max_depth=10.00  550486.739724  0.280893  \n",
       "GradientBoosting: max_depth=15.00  575616.014255  0.248066  \n",
       "GradientBoosting: max_depth=20.00  626635.827955  0.181419  "
      ]
     },
     "execution_count": 73,
     "metadata": {},
     "output_type": "execute_result"
    }
   ],
   "source": [
    "df_Results_1"
   ]
  },
  {
   "cell_type": "markdown",
   "metadata": {},
   "source": [
    "Explained Variance - peaks at 0.289 with a max_depth of 5. This is higher than achieved over the linear or kNN algorithms. But the model still does not deal with the variance in the model.\n",
    "\n",
    "MAE - the MAE is marginally improved over the equivalent kNN model runs and linear models.\n",
    "\n",
    "MSE - is still high, reflecting a high risk of a low quality prediction.\n",
    "\n",
    "R2 - is 0.289, demonstrating the model 'fit' is still poor."
   ]
  },
  {
   "cell_type": "markdown",
   "metadata": {},
   "source": [
    "CONCLUSION:\n",
    "\n",
    "Overall the Random Forest algorithm with feature variables of 'mean price paid', 'year', performs best overall compared to kNN and linear model equivalent runs. A max_depth of 5 appears to provide the optimum achievable fit with these feature variables.\n",
    "\n",
    "However, an R2 score of 0.287 and a MAE of still >10% compared to the mean for the data set is still not a good enough fit to use the model in earnest. Further improvements through further model refinments, additional possible feature variables or alternative models would be required."
   ]
  },
  {
   "cell_type": "code",
   "execution_count": 74,
   "metadata": {},
   "outputs": [],
   "source": [
    "#Export results to csv"
   ]
  },
  {
   "cell_type": "code",
   "execution_count": 75,
   "metadata": {},
   "outputs": [],
   "source": [
    "df_Results_1.to_csv('2_ModelResults/GradientBoosting_Results_1.csv')"
   ]
  },
  {
   "cell_type": "markdown",
   "metadata": {},
   "source": [
    "## 2.3.3.2 - Model Training & Evaluation (Feature Variables = Mean Price Paid, Year, X, Y)"
   ]
  },
  {
   "cell_type": "markdown",
   "metadata": {},
   "source": [
    "Location as a feature variable is expected to improve the model and support better management of the variance in the data set.\n",
    "\n",
    "Location is denoted by two feature variables 'X' and 'Y' which represent the X, Y OS Coordinates of the population weighted centroid for each LSOA. Both are therefore implemented within the same model run."
   ]
  },
  {
   "cell_type": "markdown",
   "metadata": {},
   "source": [
    "Gradient Boosting has several hyperparameters that are used to refine the model. The hyperparameters varied within the below model runs are:\n",
    "\n",
    "1. Number of estimators - which is the number of trees in the forest, the default is set to 100 and increasing substantially has a knock on to run time.\n",
    "2. Criterion - whether the model averages based on MSE or MAE. MSE is substantially faster, with MAE throwing runtime and memory issues. Whilst MAE could be a better predictor this has therefore not been explored.\n",
    "3. Maximum depth of the tree - aka number of branches - the default is none with the model running until pure. The below runs through a series of model runs over a range of max_depth between 5 to 30, and none, to determine which max_depth provides the best fit model.\n",
    "4. Random State - It is not known the impact of this hyperparameter so a series of runs have again been trialled, on this occasion set to zero.\n",
    "\n",
    "All other hyperparameters are not specified and set to the default values."
   ]
  },
  {
   "cell_type": "code",
   "execution_count": 76,
   "metadata": {},
   "outputs": [],
   "source": [
    "max_depth = [5, 10, 15, 20]"
   ]
  },
  {
   "cell_type": "code",
   "execution_count": 77,
   "metadata": {},
   "outputs": [
    {
     "name": "stdout",
     "output_type": "stream",
     "text": [
      "GradientBoosting: max_depth=5.00 ['Mean_price_paid', 'Year', 'X', 'Y']\n",
      "Explained Variance Score: 0.60\n",
      "MAE: 388.22\n",
      "MSE: 303979.77\n",
      "R2-score: 0.60\n",
      " \n",
      "GradientBoosting: max_depth=10.00 ['Mean_price_paid', 'Year', 'X', 'Y']\n",
      "Explained Variance Score: 0.75\n",
      "MAE: 314.24\n",
      "MSE: 193128.18\n",
      "R2-score: 0.75\n",
      " \n",
      "GradientBoosting: max_depth=15.00 ['Mean_price_paid', 'Year', 'X', 'Y']\n",
      "Explained Variance Score: 0.82\n",
      "MAE: 262.55\n",
      "MSE: 140663.86\n",
      "R2-score: 0.82\n",
      " \n",
      "GradientBoosting: max_depth=20.00 ['Mean_price_paid', 'Year', 'X', 'Y']\n",
      "Explained Variance Score: 0.78\n",
      "MAE: 273.16\n",
      "MSE: 167995.90\n",
      "R2-score: 0.78\n",
      " \n"
     ]
    },
    {
     "data": {
      "image/png": "[encoded data removed]",
      "text/plain": [
       "<Figure size 432x288 with 1 Axes>"
      ]
     },
     "metadata": {},
     "output_type": "display_data"
    },
    {
     "data": {
      "image/png": "[encoded data removed]",
      "text/plain": [
       "<Figure size 432x288 with 1 Axes>"
      ]
     },
     "metadata": {},
     "output_type": "display_data"
    }
   ],
   "source": [
    "df_Results_2 = GradientBoosting(['Mean_price_paid','Year', 'X', 'Y'], 'ls', 0.1, 100, 'friedman_mse', max_depth, 0)"
   ]
  },
  {
   "cell_type": "code",
   "execution_count": 78,
   "metadata": {},
   "outputs": [
    {
     "data": {
      "text/html": [
       "<div>\n",
       "<style scoped>\n",
       "    .dataframe tbody tr th:only-of-type {\n",
       "        vertical-align: middle;\n",
       "    }\n",
       "\n",
       "    .dataframe tbody tr th {\n",
       "        vertical-align: top;\n",
       "    }\n",
       "\n",
       "    .dataframe thead th {\n",
       "        text-align: right;\n",
       "    }\n",
       "</style>\n",
       "<table border=\"1\" class=\"dataframe\">\n",
       "  <thead>\n",
       "    <tr style=\"text-align: right;\">\n",
       "      <th></th>\n",
       "      <th>Model</th>\n",
       "      <th>max_depth</th>\n",
       "      <th>Feature Variables</th>\n",
       "      <th>Explained Variance Score</th>\n",
       "      <th>MAE</th>\n",
       "      <th>MSE</th>\n",
       "      <th>R2_score</th>\n",
       "    </tr>\n",
       "  </thead>\n",
       "  <tbody>\n",
       "    <tr>\n",
       "      <th>GradientBoosting: max_depth=5.00</th>\n",
       "      <td>GradientBoosting</td>\n",
       "      <td>5</td>\n",
       "      <td>[Mean_price_paid, Year, X, Y]</td>\n",
       "      <td>0.602908</td>\n",
       "      <td>388.224687</td>\n",
       "      <td>303979.771612</td>\n",
       "      <td>0.602908</td>\n",
       "    </tr>\n",
       "    <tr>\n",
       "      <th>GradientBoosting: max_depth=10.00</th>\n",
       "      <td>GradientBoosting</td>\n",
       "      <td>10</td>\n",
       "      <td>[Mean_price_paid, Year, X, Y]</td>\n",
       "      <td>0.747722</td>\n",
       "      <td>314.240222</td>\n",
       "      <td>193128.178290</td>\n",
       "      <td>0.747714</td>\n",
       "    </tr>\n",
       "    <tr>\n",
       "      <th>GradientBoosting: max_depth=15.00</th>\n",
       "      <td>GradientBoosting</td>\n",
       "      <td>15</td>\n",
       "      <td>[Mean_price_paid, Year, X, Y]</td>\n",
       "      <td>0.816281</td>\n",
       "      <td>262.550422</td>\n",
       "      <td>140663.861063</td>\n",
       "      <td>0.816249</td>\n",
       "    </tr>\n",
       "    <tr>\n",
       "      <th>GradientBoosting: max_depth=20.00</th>\n",
       "      <td>GradientBoosting</td>\n",
       "      <td>20</td>\n",
       "      <td>[Mean_price_paid, Year, X, Y]</td>\n",
       "      <td>0.780600</td>\n",
       "      <td>273.164482</td>\n",
       "      <td>167995.896328</td>\n",
       "      <td>0.780545</td>\n",
       "    </tr>\n",
       "  </tbody>\n",
       "</table>\n",
       "</div>"
      ],
      "text/plain": [
       "                                              Model  max_depth  \\\n",
       "GradientBoosting: max_depth=5.00   GradientBoosting          5   \n",
       "GradientBoosting: max_depth=10.00  GradientBoosting         10   \n",
       "GradientBoosting: max_depth=15.00  GradientBoosting         15   \n",
       "GradientBoosting: max_depth=20.00  GradientBoosting         20   \n",
       "\n",
       "                                               Feature Variables  \\\n",
       "GradientBoosting: max_depth=5.00   [Mean_price_paid, Year, X, Y]   \n",
       "GradientBoosting: max_depth=10.00  [Mean_price_paid, Year, X, Y]   \n",
       "GradientBoosting: max_depth=15.00  [Mean_price_paid, Year, X, Y]   \n",
       "GradientBoosting: max_depth=20.00  [Mean_price_paid, Year, X, Y]   \n",
       "\n",
       "                                   Explained Variance Score         MAE  \\\n",
       "GradientBoosting: max_depth=5.00                   0.602908  388.224687   \n",
       "GradientBoosting: max_depth=10.00                  0.747722  314.240222   \n",
       "GradientBoosting: max_depth=15.00                  0.816281  262.550422   \n",
       "GradientBoosting: max_depth=20.00                  0.780600  273.164482   \n",
       "\n",
       "                                             MSE  R2_score  \n",
       "GradientBoosting: max_depth=5.00   303979.771612  0.602908  \n",
       "GradientBoosting: max_depth=10.00  193128.178290  0.747714  \n",
       "GradientBoosting: max_depth=15.00  140663.861063  0.816249  \n",
       "GradientBoosting: max_depth=20.00  167995.896328  0.780545  "
      ]
     },
     "execution_count": 78,
     "metadata": {},
     "output_type": "execute_result"
    }
   ],
   "source": [
    "df_Results_2"
   ]
  },
  {
   "cell_type": "markdown",
   "metadata": {},
   "source": [
    "Explained Variance - peaks at 0.816 with max_depth of 15. This is higher than achieved over the linear or kNN algorithms and the earlier Random Forest model run without the location parameters. The model is dealing much better with variance.\n",
    "\n",
    "MAE - the MAE is significantly improved over the equivalent kNN model runs and linear models and predicts within ~7% of the mean electricity consumption for the data set.\n",
    "\n",
    "MSE - is also improved, but arguably still high with the possibility of a poor prediction.\n",
    "\n",
    "R2 - also appears to peak at 0.816, demonstrating the model 'fit' is relatively 'good' - albeit improvements would still be looked for."
   ]
  },
  {
   "cell_type": "markdown",
   "metadata": {},
   "source": [
    "CONCLUSION:\n",
    "\n",
    "Overall the Gradient Boosting algorithm with feature variables of 'mean price paid', 'year', 'X' and 'Y' performs best overall compared to all other model runs. A max_depth of 15 appears to provide the optimum achievable fit with these feature variables.\n",
    "\n",
    "The model is substantially improved compared to earlier algorithm/model choice and runs (differing feature variables and hyperparameters) but further improvements would still be looked for through addition of other possible feature variables and tuning of hyperparameters."
   ]
  },
  {
   "cell_type": "code",
   "execution_count": 79,
   "metadata": {},
   "outputs": [],
   "source": [
    "#Export results to csv"
   ]
  },
  {
   "cell_type": "code",
   "execution_count": 80,
   "metadata": {},
   "outputs": [],
   "source": [
    "df_Results_2.to_csv('2_ModelResults/GradientBoosting_Results_2.csv')"
   ]
  },
  {
   "cell_type": "code",
   "execution_count": null,
   "metadata": {},
   "outputs": [],
   "source": []
  },
  {
   "cell_type": "code",
   "execution_count": 81,
   "metadata": {},
   "outputs": [
    {
     "data": {
      "text/plain": [
       "array([0.15726708, 0.03625983, 0.39868883, 0.40778426])"
      ]
     },
     "execution_count": 81,
     "metadata": {},
     "output_type": "execute_result"
    }
   ],
   "source": [
    "regr.feature_importances_"
   ]
  },
  {
   "cell_type": "code",
   "execution_count": null,
   "metadata": {},
   "outputs": [],
   "source": []
  },
  {
   "cell_type": "code",
   "execution_count": null,
   "metadata": {},
   "outputs": [],
   "source": [
    "#END"
   ]
  }
 ],
 "metadata": {
  "kernelspec": {
   "display_name": "Python 3",
   "language": "python",
   "name": "python3"
  },
  "language_info": {
   "codemirror_mode": {
    "name": "ipython",
    "version": 3
   },
   "file_extension": ".py",
   "mimetype": "text/x-python",
   "name": "python",
   "nbconvert_exporter": "python",
   "pygments_lexer": "ipython3",
   "version": "3.6.5"
  }
 },
 "nbformat": 4,
 "nbformat_minor": 2
}
