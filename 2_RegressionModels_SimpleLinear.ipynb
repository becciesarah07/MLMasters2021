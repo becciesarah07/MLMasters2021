{
 "cells": [
  {
   "cell_type": "markdown",
   "metadata": {},
   "source": [
    "# 2 Machine Learning Models"
   ]
  },
  {
   "cell_type": "markdown",
   "metadata": {},
   "source": [
    "## 2.1 Simple Linear Regression"
   ]
  },
  {
   "cell_type": "markdown",
   "metadata": {},
   "source": [
    "This notebook runs a simple linear regression model from the SciKit Learn python library (https://scikit-learn.org/stable/user_guide.html)."
   ]
  },
  {
   "cell_type": "markdown",
   "metadata": {},
   "source": [
    "The problem posed is to predict electricity consumption at a local (LSOA) level, the data is therefore continuous and numerical and is labelled. This lends to supervised machine learning (ML) and regression models.\n",
    "\n",
    "It is hypothesised that there will be a correlation between mean house price sales (as an indicator of general prosperity and condition of a property) and electricity consumption. This data has previously been cleaned, is read in and split into training and test data. Results are printed in line and exported to csv for comparison against other regression models."
   ]
  },
  {
   "cell_type": "markdown",
   "metadata": {},
   "source": [
    "Prior to running a model using house price sales as a predictor / feature variable, a linear regression model is run on the basic electricity consumption data using 'Year' as the sole feature variable. This is not expected to predict well but is useful to run to set the baseline from which all models and additions or changes of feature variables can be evaluated."
   ]
  },
  {
   "cell_type": "markdown",
   "metadata": {},
   "source": [
    "## 2.1.1 Import Model Libraries"
   ]
  },
  {
   "cell_type": "markdown",
   "metadata": {},
   "source": [
    "Data handling and scientific libraries used include:\n",
    "\n",
    "numpy - (scientific numerical package for Python that enables working with arrays) pandas - (data analysis library) matplotlib - (enables plotting and visualisation in Python) openpyxl / load_workbook (opens Excel xlsx files)"
   ]
  },
  {
   "cell_type": "code",
   "execution_count": 1,
   "metadata": {},
   "outputs": [],
   "source": [
    "#Import Libraries"
   ]
  },
  {
   "cell_type": "code",
   "execution_count": 2,
   "metadata": {},
   "outputs": [],
   "source": [
    "import numpy as np\n",
    "import pandas as pd\n",
    "import matplotlib\n",
    "import matplotlib.pyplot as plt\n",
    "from openpyxl import load_workbook"
   ]
  },
  {
   "cell_type": "markdown",
   "metadata": {},
   "source": [
    "Imports the linear model from the SciKit Learn library."
   ]
  },
  {
   "cell_type": "code",
   "execution_count": 3,
   "metadata": {},
   "outputs": [],
   "source": [
    "#Import ML models"
   ]
  },
  {
   "cell_type": "code",
   "execution_count": 4,
   "metadata": {},
   "outputs": [],
   "source": [
    "from sklearn import linear_model\n",
    "\n",
    "#from sklearn.model_selection import train_test_split\n",
    "#from sklearn.linear_model import LinearRegression\n",
    "#from sklearn.linear_model import Lasso\n",
    "#from sklearn.linear_model import Ridge\n",
    "#from sklearn.linear_model import ElasticNet\n",
    "#from sklearn.linear_model import HuberRegressor\n",
    "#from sklearn.linear_model import Lars\n",
    "#from sklearn.linear_model import LassoLars\n",
    "#from sklearn.linear_model import PassiveAggressiveRegressor\n",
    "#from sklearn.linear_model import RANSACRegressor\n",
    "#from sklearn.linear_model import SGDRegressor\n",
    "#from sklearn.svm import SVR\n",
    "#from sklearn.tree import DecisionTreeRegressor\n",
    "#from sklearn.ensemble import RandomForestRegressor\n",
    "#from sklearn.ensemble import AdaBoostRegressor\n",
    "#from sklearn.neural_network import MLPRegressor\n",
    "#from sklearn.neighbors import KNeighborsRegressor\n"
   ]
  },
  {
   "cell_type": "markdown",
   "metadata": {},
   "source": [
    "Imports the standard error metric functions of Variance (explained variance), MAE, MSE and R2 from the SciKit Learn library. \n",
    "\n",
    "Explained variance is an indicator of whether the model is accounting for the variance in the dataset.\n",
    "\n",
    "MAE - is the real error averaged across the predicted values.\n",
    "\n",
    "MSE - is the square of the mean error, which indicates risk and the quality of the prediction. Values closer to zero are better.\n",
    "\n",
    "R squared or R2 'represents the proportion of variance (of y) that has been explained by the independent variables in the model. It provides an indication of goodness of fit and therefore a measure of how well unseen samples are likely to be predicted by the model, through the proportion of explained variance.'1\n",
    "An R2 value closer to 1 indicates a good fit.\n",
    "\n",
    "1 - https://scikit-learn.org/stable/modules/model_evaluation.html#regression-metrics"
   ]
  },
  {
   "cell_type": "code",
   "execution_count": 5,
   "metadata": {},
   "outputs": [],
   "source": [
    "#Import Error Metrics"
   ]
  },
  {
   "cell_type": "code",
   "execution_count": 6,
   "metadata": {},
   "outputs": [],
   "source": [
    "from sklearn.metrics import explained_variance_score\n",
    "from sklearn.metrics import mean_absolute_error\n",
    "from sklearn.metrics import mean_squared_error\n",
    "from sklearn.metrics import r2_score"
   ]
  },
  {
   "cell_type": "code",
   "execution_count": 7,
   "metadata": {},
   "outputs": [],
   "source": [
    "#Import Test/Train split function"
   ]
  },
  {
   "cell_type": "code",
   "execution_count": 8,
   "metadata": {},
   "outputs": [],
   "source": [
    "from sklearn.model_selection import train_test_split"
   ]
  },
  {
   "cell_type": "markdown",
   "metadata": {},
   "source": [
    "## 2.1.2 Import Data & Split into Train/Test Data"
   ]
  },
  {
   "cell_type": "markdown",
   "metadata": {},
   "source": [
    "The train_test_split function allows you to defined test_size and train_size, if one isn't specified it is set as the complementary value.\n",
    "\n",
    "A training size of 0.75-0.8 is generally recommended. Sensitivity testing to the training size showed continuous improvement with a larger training size. Beyond 80% of the data for training may lead to overfitting hence selection at this point.\n",
    "\n",
    "Defining the random_state with an integer allows repetition across different Notebooks/model runs."
   ]
  },
  {
   "cell_type": "code",
   "execution_count": 9,
   "metadata": {},
   "outputs": [],
   "source": [
    "#Read in datafile"
   ]
  },
  {
   "cell_type": "code",
   "execution_count": 10,
   "metadata": {},
   "outputs": [],
   "source": [
    "df_LSOA_EnergyConsumption_ResPropertySales = pd.read_csv('1_DataCleaning/LSOAEnergyConsumption_ResPropertySales.csv')"
   ]
  },
  {
   "cell_type": "code",
   "execution_count": 11,
   "metadata": {},
   "outputs": [],
   "source": [
    "#Split df_LSOA_EnergyConsumption_ResPropertySales dataset 80:20"
   ]
  },
  {
   "cell_type": "code",
   "execution_count": 12,
   "metadata": {},
   "outputs": [],
   "source": [
    "train, test = train_test_split(df_LSOA_EnergyConsumption_ResPropertySales, test_size=0.2, train_size=0.8, random_state=10)"
   ]
  },
  {
   "cell_type": "code",
   "execution_count": 13,
   "metadata": {},
   "outputs": [],
   "source": [
    "#Using a mask does the same thing but has fewer parameters than the train_test_split function in SciKit Learn"
   ]
  },
  {
   "cell_type": "code",
   "execution_count": 14,
   "metadata": {},
   "outputs": [],
   "source": [
    "#msk = np.random.rand(len(df_LSOA_EnergyConsumption_ResPropertySales)) < 0.8"
   ]
  },
  {
   "cell_type": "code",
   "execution_count": 15,
   "metadata": {},
   "outputs": [],
   "source": [
    "#train = df_LSOA_EnergyConsumption_ResPropertySales[msk]\n",
    "#test = df_LSOA_EnergyConsumption_ResPropertySales[~msk]"
   ]
  },
  {
   "cell_type": "markdown",
   "metadata": {},
   "source": [
    "## 2.1.3 Model Set-up & Training"
   ]
  },
  {
   "cell_type": "markdown",
   "metadata": {},
   "source": [
    "The linear model is defined, as well as the training feature variables to be passed to the machine learning model.\n",
    "\n",
    "In this instance only 'Year' is selected as a feature variable to predict 'Mean_domestic_electricity_consumption_kWh_per_meter'.\n",
    "\n",
    "The model is trained using .fit and the training data plotted on a simple scatter plot for visualisation. Given the variability of electricity consumption within a year and no strong correlation when looking at data covering all LSOAs across the UK this model is not expected to predict well, but will be used as a bench mark for evaluating further models and feature variables."
   ]
  },
  {
   "cell_type": "code",
   "execution_count": 16,
   "metadata": {},
   "outputs": [],
   "source": [
    "#sklearn simple linear regression model - Consumption against Year"
   ]
  },
  {
   "cell_type": "code",
   "execution_count": 17,
   "metadata": {},
   "outputs": [],
   "source": [
    "regr = linear_model.LinearRegression()"
   ]
  },
  {
   "cell_type": "code",
   "execution_count": 18,
   "metadata": {},
   "outputs": [],
   "source": [
    "train_x = np.asanyarray(train[['Year']])\n",
    "train_y = np.asanyarray(train[['Mean_domestic_electricity_consumption_kWh_per_meter']])"
   ]
  },
  {
   "cell_type": "code",
   "execution_count": 19,
   "metadata": {},
   "outputs": [
    {
     "data": {
      "text/plain": [
       "LinearRegression(copy_X=True, fit_intercept=True, n_jobs=1, normalize=False)"
      ]
     },
     "execution_count": 19,
     "metadata": {},
     "output_type": "execute_result"
    }
   ],
   "source": [
    "regr.fit(train_x, train_y)"
   ]
  },
  {
   "cell_type": "code",
   "execution_count": 20,
   "metadata": {},
   "outputs": [
    {
     "name": "stdout",
     "output_type": "stream",
     "text": [
      "Coefficients:  [[-58.66925346]]\n",
      "Intercept:  [122083.99266176]\n"
     ]
    }
   ],
   "source": [
    "print ('Coefficients: ', regr.coef_)\n",
    "print ('Intercept: ',regr.intercept_)"
   ]
  },
  {
   "cell_type": "code",
   "execution_count": 21,
   "metadata": {},
   "outputs": [
    {
     "data": {
      "text/plain": [
       "Text(0,0.5,'Mean Consumption (per meter) (kWh)')"
      ]
     },
     "execution_count": 21,
     "metadata": {},
     "output_type": "execute_result"
    },
    {
     "data": {
      "image/png": "[encoded data removed]",
      "text/plain": [
       "<Figure size 432x288 with 1 Axes>"
      ]
     },
     "metadata": {},
     "output_type": "display_data"
    }
   ],
   "source": [
    "plt.scatter(train.Year, train.Mean_domestic_electricity_consumption_kWh_per_meter,  color='green')\n",
    "plt.plot(train_x, regr.coef_[0][0]*train_x + regr.intercept_[0], '-r')\n",
    "plt.xlabel(\"Year\")\n",
    "plt.ylabel(\"Mean Consumption (per meter) (kWh)\")"
   ]
  },
  {
   "cell_type": "markdown",
   "metadata": {},
   "source": [
    "## 2.1.4 Model Evaluation"
   ]
  },
  {
   "cell_type": "markdown",
   "metadata": {},
   "source": [
    "The metrics defined above are used to evaluate the model performance, as expected the model does not perform well."
   ]
  },
  {
   "cell_type": "code",
   "execution_count": 22,
   "metadata": {},
   "outputs": [
    {
     "name": "stdout",
     "output_type": "stream",
     "text": [
      "Explained Variance Score: 0.03\n",
      "MAE: 608.63\n",
      "MSE: 742005.50\n",
      "R2-score: 0.03\n"
     ]
    }
   ],
   "source": [
    "test_x = np.asanyarray(test[['Year']])\n",
    "test_y = np.asanyarray(test[['Mean_domestic_electricity_consumption_kWh_per_meter']])\n",
    "test_y_ = regr.predict(test_x)\n",
    "\n",
    "print(\"Explained Variance Score: %.2f\" % explained_variance_score(test_y , test_y_) )\n",
    "print(\"MAE: %.2f\" % mean_absolute_error(test_y , test_y_) )\n",
    "print(\"MSE: %.2f\" % mean_squared_error(test_y , test_y_) )\n",
    "print(\"R2-score: %.2f\" % r2_score(test_y , test_y_) )\n",
    "\n",
    "\n",
    "#print(\"Mean absolute error: %.2f\" % np.mean(np.absolute(test_y_ - test_y)))\n",
    "#print(\"Residual sum of squares (MSE): %.2f\" % np.mean((test_y_ - test_y) ** 2))"
   ]
  },
  {
   "cell_type": "markdown",
   "metadata": {},
   "source": [
    "Explained Variance - is very low, doesn't deal well with the variance in the model.\n",
    "\n",
    "MAE - the MAE is 15% of the mean of the consumption dataset, which would not be considered accurate enough for industry use. Although in this instance as the measure of fitness and quality of prediction are also very low these collectively indicate the model is not reliable.\n",
    "\n",
    "MSE - is very high, reflecting a high risk of a low quality prediction.\n",
    "\n",
    "R2 - is very low / close to zero demonstrating the model has poor 'fit' and doesn't deal well with the variance in the model."
   ]
  },
  {
   "cell_type": "markdown",
   "metadata": {},
   "source": [
    "## 2.1.5 Model Set-up & Training - Mean Price Feature Variable"
   ]
  },
  {
   "cell_type": "markdown",
   "metadata": {},
   "source": [
    "The linear model is defined, as well as the training feature variables to be passed to the machine learning model.\n",
    "\n",
    "In this instance only 'Mean Price Paid' is selected as a feature variable to predict 'Mean_domestic_electricity_consumption_kWh_per_meter'.\n",
    "\n",
    "The model is trained using .fit and the training data plotted on a simple scatter plot for visualisation. \n",
    "\n",
    "This model is expected to predict with a better fit relatively than when 'Year' was taken as the sole feature variable as  plotting of the data shows a (weak) positive correlation. However, it is not expected that a linear model with a single feature variable will perform well. "
   ]
  },
  {
   "cell_type": "code",
   "execution_count": 23,
   "metadata": {},
   "outputs": [],
   "source": [
    "#sklearn simple linear regression model - Consumption against Mean house price"
   ]
  },
  {
   "cell_type": "code",
   "execution_count": 24,
   "metadata": {},
   "outputs": [],
   "source": [
    "regr = linear_model.LinearRegression()"
   ]
  },
  {
   "cell_type": "code",
   "execution_count": 25,
   "metadata": {},
   "outputs": [],
   "source": [
    "train_x_2 = np.asanyarray(train[['Mean_price_paid']])\n",
    "train_y_2 = np.asanyarray(train[['Mean_domestic_electricity_consumption_kWh_per_meter']])"
   ]
  },
  {
   "cell_type": "code",
   "execution_count": 26,
   "metadata": {},
   "outputs": [
    {
     "data": {
      "text/plain": [
       "LinearRegression(copy_X=True, fit_intercept=True, n_jobs=1, normalize=False)"
      ]
     },
     "execution_count": 26,
     "metadata": {},
     "output_type": "execute_result"
    }
   ],
   "source": [
    "regr.fit (train_x_2, train_y_2)"
   ]
  },
  {
   "cell_type": "code",
   "execution_count": 27,
   "metadata": {},
   "outputs": [
    {
     "name": "stdout",
     "output_type": "stream",
     "text": [
      "Coefficients:  [[0.00166506]]\n",
      "Intercept:  [3521.12300408]\n"
     ]
    }
   ],
   "source": [
    "print ('Coefficients: ', regr.coef_)\n",
    "print ('Intercept: ',regr.intercept_)"
   ]
  },
  {
   "cell_type": "code",
   "execution_count": 28,
   "metadata": {},
   "outputs": [
    {
     "data": {
      "text/plain": [
       "Text(0,0.5,'Mean Consumption (per meter) (kWh)')"
      ]
     },
     "execution_count": 28,
     "metadata": {},
     "output_type": "execute_result"
    },
    {
     "data": {
      "image/png": "[encoded data removed]",
      "text/plain": [
       "<Figure size 432x288 with 1 Axes>"
      ]
     },
     "metadata": {},
     "output_type": "display_data"
    }
   ],
   "source": [
    "plt.scatter(train.Mean_price_paid, train.Mean_domestic_electricity_consumption_kWh_per_meter,  color='green')\n",
    "plt.plot(train_x_2, regr.coef_[0][0]*train_x_2 + regr.intercept_[0], '-r')\n",
    "plt.xlabel(\"Mean_price_paid\")\n",
    "plt.ylabel(\"Mean Consumption (per meter) (kWh)\")"
   ]
  },
  {
   "cell_type": "markdown",
   "metadata": {},
   "source": [
    "## 2.1.6 Model Evaluation - Mean Price Feature Variable"
   ]
  },
  {
   "cell_type": "code",
   "execution_count": 29,
   "metadata": {},
   "outputs": [
    {
     "name": "stdout",
     "output_type": "stream",
     "text": [
      "Explained Variance Score: 0.15\n",
      "MAE: 564.94\n",
      "MSE: 647511.20\n",
      "R2-score: 0.15\n"
     ]
    }
   ],
   "source": [
    "test_x_2 = np.asanyarray(test[['Mean_price_paid']])\n",
    "test_y_2 = np.asanyarray(test[['Mean_domestic_electricity_consumption_kWh_per_meter']])\n",
    "test_y_2_ = regr.predict(test_x_2)\n",
    "\n",
    "print(\"Explained Variance Score: %.2f\" % explained_variance_score(test_y_2 , test_y_2_) )\n",
    "print(\"MAE: %.2f\" % mean_absolute_error(test_y_2 , test_y_2_) )\n",
    "print(\"MSE: %.2f\" % mean_squared_error(test_y_2 , test_y_2_) )\n",
    "print(\"R2-score: %.2f\" % r2_score(test_y_2 , test_y_2_) )"
   ]
  },
  {
   "cell_type": "markdown",
   "metadata": {},
   "source": [
    "Explained Variance - is still low, showing that the model doesn't deal well with the variance in the model.\n",
    "\n",
    "MAE - the MAE is improved but still high, which would not be considered accurate enough for industry use. Although in this instance as the measure of fitness and quality of prediction are also very low these collectively indicate the model is not reliable.\n",
    "\n",
    "MSE - is very high, reflecting a high risk of a low quality prediction.\n",
    "\n",
    "R2 - is very low / close to zero demonstrating the model has poor 'fit' and doesn't deal well with the variance in the model."
   ]
  },
  {
   "cell_type": "markdown",
   "metadata": {},
   "source": [
    "## 2.1.7 Results Export"
   ]
  },
  {
   "cell_type": "code",
   "execution_count": 102,
   "metadata": {},
   "outputs": [],
   "source": [
    "#Set up dataframe for results"
   ]
  },
  {
   "cell_type": "code",
   "execution_count": 115,
   "metadata": {},
   "outputs": [],
   "source": [
    "df_Results = None"
   ]
  },
  {
   "cell_type": "code",
   "execution_count": 116,
   "metadata": {},
   "outputs": [],
   "source": [
    "#Print results to the dataframe"
   ]
  },
  {
   "cell_type": "code",
   "execution_count": 117,
   "metadata": {},
   "outputs": [],
   "source": [
    "df_Results = pd.DataFrame({'Explained Variance Score': [explained_variance_score(test_y , test_y_), explained_variance_score(test_y_2 , test_y_2_)]},\n",
    "                  index=['SimpleLinear_Year', 'SimpleLinear_Price'])"
   ]
  },
  {
   "cell_type": "code",
   "execution_count": 118,
   "metadata": {},
   "outputs": [],
   "source": [
    "df_Results.insert(1,'MAE', [mean_absolute_error(test_y , test_y_), mean_absolute_error(test_y_2 , test_y_2_)])"
   ]
  },
  {
   "cell_type": "code",
   "execution_count": 119,
   "metadata": {},
   "outputs": [],
   "source": [
    "df_Results.insert(2, 'MSE', [mean_squared_error(test_y , test_y_), mean_squared_error(test_y_2 , test_y_2_)])"
   ]
  },
  {
   "cell_type": "code",
   "execution_count": 120,
   "metadata": {},
   "outputs": [],
   "source": [
    "df_Results.insert(3,'R2-score', [r2_score(test_y , test_y_), r2_score(test_y_2 , test_y_2_)])"
   ]
  },
  {
   "cell_type": "code",
   "execution_count": 126,
   "metadata": {},
   "outputs": [],
   "source": [
    "df_Results.insert(0, 'Model', 'Simple Linear')"
   ]
  },
  {
   "cell_type": "code",
   "execution_count": 127,
   "metadata": {},
   "outputs": [],
   "source": [
    "df_Results.insert(1, 'Feature Variables', ['Year', 'Price'])"
   ]
  },
  {
   "cell_type": "code",
   "execution_count": 128,
   "metadata": {},
   "outputs": [],
   "source": [
    "#Check dataframe "
   ]
  },
  {
   "cell_type": "code",
   "execution_count": 129,
   "metadata": {},
   "outputs": [
    {
     "data": {
      "text/html": [
       "<div>\n",
       "<style scoped>\n",
       "    .dataframe tbody tr th:only-of-type {\n",
       "        vertical-align: middle;\n",
       "    }\n",
       "\n",
       "    .dataframe tbody tr th {\n",
       "        vertical-align: top;\n",
       "    }\n",
       "\n",
       "    .dataframe thead th {\n",
       "        text-align: right;\n",
       "    }\n",
       "</style>\n",
       "<table border=\"1\" class=\"dataframe\">\n",
       "  <thead>\n",
       "    <tr style=\"text-align: right;\">\n",
       "      <th></th>\n",
       "      <th>Model</th>\n",
       "      <th>Feature Variables</th>\n",
       "      <th>Explained Variance Score</th>\n",
       "      <th>MAE</th>\n",
       "      <th>MSE</th>\n",
       "      <th>R2-score</th>\n",
       "    </tr>\n",
       "  </thead>\n",
       "  <tbody>\n",
       "    <tr>\n",
       "      <th>SimpleLinear_Year</th>\n",
       "      <td>Simple Linear</td>\n",
       "      <td>Year</td>\n",
       "      <td>0.030716</td>\n",
       "      <td>608.629485</td>\n",
       "      <td>742005.500563</td>\n",
       "      <td>0.030710</td>\n",
       "    </tr>\n",
       "    <tr>\n",
       "      <th>SimpleLinear_Price</th>\n",
       "      <td>Simple Linear</td>\n",
       "      <td>Price</td>\n",
       "      <td>0.154156</td>\n",
       "      <td>564.938189</td>\n",
       "      <td>647511.200503</td>\n",
       "      <td>0.154149</td>\n",
       "    </tr>\n",
       "  </tbody>\n",
       "</table>\n",
       "</div>"
      ],
      "text/plain": [
       "                            Model Feature Variables  Explained Variance Score  \\\n",
       "SimpleLinear_Year   Simple Linear              Year                  0.030716   \n",
       "SimpleLinear_Price  Simple Linear             Price                  0.154156   \n",
       "\n",
       "                           MAE            MSE  R2-score  \n",
       "SimpleLinear_Year   608.629485  742005.500563  0.030710  \n",
       "SimpleLinear_Price  564.938189  647511.200503  0.154149  "
      ]
     },
     "execution_count": 129,
     "metadata": {},
     "output_type": "execute_result"
    }
   ],
   "source": [
    "df_Results.head()"
   ]
  },
  {
   "cell_type": "code",
   "execution_count": 130,
   "metadata": {},
   "outputs": [],
   "source": [
    "#Export results to csv"
   ]
  },
  {
   "cell_type": "code",
   "execution_count": 131,
   "metadata": {},
   "outputs": [],
   "source": [
    "df_Results.to_csv('2_ModelResults/SimpleLinear_Results.csv')"
   ]
  },
  {
   "cell_type": "code",
   "execution_count": 114,
   "metadata": {},
   "outputs": [],
   "source": [
    "#END"
   ]
  }
 ],
 "metadata": {
  "kernelspec": {
   "display_name": "Python 3",
   "language": "python",
   "name": "python3"
  },
  "language_info": {
   "codemirror_mode": {
    "name": "ipython",
    "version": 3
   },
   "file_extension": ".py",
   "mimetype": "text/x-python",
   "name": "python",
   "nbconvert_exporter": "python",
   "pygments_lexer": "ipython3",
   "version": "3.6.5"
  }
 },
 "nbformat": 4,
 "nbformat_minor": 2
}
