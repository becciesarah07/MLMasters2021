{
 "cells": [
  {
   "cell_type": "markdown",
   "metadata": {},
   "source": [
    "# 2 Machine Learning Models"
   ]
  },
  {
   "cell_type": "markdown",
   "metadata": {},
   "source": [
    "## 2.X Random Forest Regression"
   ]
  },
  {
   "cell_type": "markdown",
   "metadata": {},
   "source": [
    "This notebook runs the Random Forest regression model (an ensemble method based on an averaged (forest) randomised decision tree model) from the SciKit Learn python library (https://scikit-learn.org/stable/modules/generated/sklearn.ensemble.RandomForestRegressor.html#sklearn.ensemble.RandomForestRegressor)."
   ]
  },
  {
   "cell_type": "markdown",
   "metadata": {},
   "source": [
    "The problem posed is to predict electricity consumption at a local (LSOA) level, the data is therefore continuous and numerical and is labelled. This lends to supervised machine learning (ML) and regression models.\n",
    "\n",
    "It is hypothesised that there will be a correlation between mean house price sales (as an indicator of general prosperity and condition of a property) and electricity consumption. This data has previously been cleaned, is read in and split into training and test data. Results are printed in line and exported to csv for comparison against other regression models."
   ]
  },
  {
   "cell_type": "markdown",
   "metadata": {},
   "source": [
    "The feature variables include: 'Year', 'Mean price paid', and OS coordinate location data for the population weighted centroid of the LSOAs."
   ]
  },
  {
   "cell_type": "markdown",
   "metadata": {},
   "source": [
    "Initially the models were tested with 'Year' and 'Mean price paid', followed by a second model run with all the above feature variables included."
   ]
  },
  {
   "cell_type": "markdown",
   "metadata": {},
   "source": [
    "Random Forest has several hyperparameters that are used to refine the model. The hyperparameters varied within the below model runs are:\n",
    "1. Number of estimators - which is the number of trees in the forest, the default is set to 100 and increasing substantially has a knock on to run time.\n",
    "2. Criterion - whether the model averages based on MSE or MAE. MSE is substantially faster, with MAE throwing runtime and memory issues. Whilst MAE could be a better predictor this has therefore not been explored.\n",
    "3. Maximum depth of the tree - aka number of branches - the default is none with the model running until pure.\n",
    "4. Random State - randomness of samples taken and also randomness of features considered at each node / branch. It is not known what effect this will on the model.\n",
    "\n",
    "All other hyperparameters are not specified and set to the default values."
   ]
  },
  {
   "cell_type": "markdown",
   "metadata": {},
   "source": [
    "## 2.3.1 Import Model Libraries"
   ]
  },
  {
   "cell_type": "markdown",
   "metadata": {},
   "source": [
    "Data handling and scientific libraries used include:\n",
    "\n",
    "numpy - (scientific numerical package for Python that enables working with arrays) pandas - (data analysis library) matplotlib - (enables plotting and visualisation in Python) openpyxl / load_workbook (opens Excel xlsx files)"
   ]
  },
  {
   "cell_type": "code",
   "execution_count": 1,
   "metadata": {},
   "outputs": [],
   "source": [
    "#Import Libraries"
   ]
  },
  {
   "cell_type": "code",
   "execution_count": 2,
   "metadata": {},
   "outputs": [],
   "source": [
    "import numpy as np\n",
    "import pandas as pd\n",
    "import matplotlib\n",
    "import matplotlib.pyplot as plt\n",
    "from openpyxl import load_workbook"
   ]
  },
  {
   "cell_type": "markdown",
   "metadata": {},
   "source": [
    "Imports the Random Forest Regressor model from the SciKit Learn ensemble library."
   ]
  },
  {
   "cell_type": "code",
   "execution_count": 3,
   "metadata": {},
   "outputs": [],
   "source": [
    "#Import ML models"
   ]
  },
  {
   "cell_type": "code",
   "execution_count": 4,
   "metadata": {},
   "outputs": [],
   "source": [
    "from sklearn.ensemble import RandomForestRegressor\n",
    "\n",
    "#from sklearn.linear_model import LinearRegression\n",
    "#from sklearn.linear_model import Lasso\n",
    "#from sklearn.linear_model import Ridge\n",
    "#from sklearn.linear_model import ElasticNet\n",
    "#from sklearn.linear_model import HuberRegressor\n",
    "#from sklearn.linear_model import Lars\n",
    "#from sklearn.linear_model import LassoLars\n",
    "#from sklearn.linear_model import PassiveAggressiveRegressor\n",
    "#from sklearn.linear_model import RANSACRegressor\n",
    "#from sklearn.linear_model import SGDRegressor\n",
    "\n",
    "#from sklearn.ensemble import AdaBoostRegressor\n",
    "#from sklearn.neural_network import MLPRegressor\n",
    "#from sklearn.tree import DecisionTreeRegressor\n",
    "#from sklearn.neighbors import KNeighborsRegressor\n"
   ]
  },
  {
   "cell_type": "markdown",
   "metadata": {},
   "source": [
    "Imports the standard error metric functions of Variance (explained variance), MAE, MSE and R2 from the SciKit Learn library.\n",
    "\n",
    "Explained variance is an indicator of whether the model is accounting for the variance in the dataset.\n",
    "\n",
    "MAE - is the real error averaged across the predicted values.\n",
    "\n",
    "MSE - is the square of the mean error, which indicates risk and the quality of the prediction. Values closer to zero are better.\n",
    "\n",
    "R squared or R2 'represents the proportion of variance (of y) that has been explained by the independent variables in the model. It provides an indication of goodness of fit and therefore a measure of how well unseen samples are likely to be predicted by the model, through the proportion of explained variance.'1 An R2 value closer to 1 indicates a good fit.\n",
    "\n",
    "1 - https://scikit-learn.org/stable/modules/model_evaluation.html#regression-metrics"
   ]
  },
  {
   "cell_type": "code",
   "execution_count": 5,
   "metadata": {},
   "outputs": [],
   "source": [
    "#Import Error Metrics"
   ]
  },
  {
   "cell_type": "code",
   "execution_count": 6,
   "metadata": {},
   "outputs": [],
   "source": [
    "from sklearn.metrics import explained_variance_score\n",
    "from sklearn.metrics import mean_absolute_error\n",
    "from sklearn.metrics import mean_squared_error\n",
    "from sklearn.metrics import r2_score"
   ]
  },
  {
   "cell_type": "code",
   "execution_count": 7,
   "metadata": {},
   "outputs": [],
   "source": [
    "#Import Test/Train split function"
   ]
  },
  {
   "cell_type": "code",
   "execution_count": 8,
   "metadata": {},
   "outputs": [],
   "source": [
    "from sklearn.model_selection import train_test_split"
   ]
  },
  {
   "cell_type": "markdown",
   "metadata": {},
   "source": [
    "## 2.3.2 Import Data & Split into Train/Test Data"
   ]
  },
  {
   "cell_type": "markdown",
   "metadata": {},
   "source": [
    "The train_test_split function allows you to defined test_size and train_size, if one isn't specified it is set as the complementary value.\n",
    "\n",
    "A training size of 0.75-0.8 is generally recommended. Sensitivity testing to the training size showed continuous improvement with a larger training size. Beyond 80% of the data for training may lead to overfitting hence selection at this point.\n",
    "\n",
    "Defining the random_state with an integer allows repetition across different Notebooks/model runs."
   ]
  },
  {
   "cell_type": "code",
   "execution_count": 9,
   "metadata": {},
   "outputs": [],
   "source": [
    "#Read in datafile"
   ]
  },
  {
   "cell_type": "code",
   "execution_count": 10,
   "metadata": {},
   "outputs": [],
   "source": [
    "df_LSOA_Location_Energy_Sales = pd.read_csv('1_DataCleaning/LSOA_Location_Energy_Sales.csv')"
   ]
  },
  {
   "cell_type": "code",
   "execution_count": null,
   "metadata": {},
   "outputs": [],
   "source": []
  },
  {
   "cell_type": "code",
   "execution_count": 11,
   "metadata": {},
   "outputs": [],
   "source": [
    "#Run a subset of the data by Local Authority (London being first 37 row entries)"
   ]
  },
  {
   "cell_type": "code",
   "execution_count": 12,
   "metadata": {},
   "outputs": [],
   "source": [
    "#df_LSOA_Location_Energy_Sales = df_LSOA_Location_Energy_Sales[df_LSOA_Location_Energy_Sales['Local authority name'].isin(['Pembrokeshire'])]"
   ]
  },
  {
   "cell_type": "code",
   "execution_count": 13,
   "metadata": {},
   "outputs": [],
   "source": [
    "#df_LSOA_Location_Energy_Sales.describe()"
   ]
  },
  {
   "cell_type": "code",
   "execution_count": null,
   "metadata": {},
   "outputs": [],
   "source": []
  },
  {
   "cell_type": "code",
   "execution_count": 14,
   "metadata": {},
   "outputs": [],
   "source": [
    "#Split df_LSOA_Location_Energy_Sales dataset 80:20"
   ]
  },
  {
   "cell_type": "code",
   "execution_count": 15,
   "metadata": {},
   "outputs": [],
   "source": [
    "train, test = train_test_split(df_LSOA_Location_Energy_Sales, test_size=0.2, train_size=0.8, random_state=10)"
   ]
  },
  {
   "cell_type": "markdown",
   "metadata": {},
   "source": [
    "## 2.3.3 Model Set-up, Training, Prediction & Evaluation"
   ]
  },
  {
   "cell_type": "markdown",
   "metadata": {},
   "source": [
    "The model function undertakes the following steps:\n",
    "\n",
    "1. The model is defined, taking the feature variables and hyperparameters as arguments.\n",
    "\n",
    "2. The model is trained using .fit on the specified training data.\n",
    "\n",
    "3. The model is run using .predict on the feature variables.\n",
    "\n",
    "4. Evaluation metrics are printed to screen, stored in a dataframe and plotted (against number of neighbors).\n",
    "\n",
    "The function returns the dataframe of evaluation metrics."
   ]
  },
  {
   "cell_type": "code",
   "execution_count": 16,
   "metadata": {},
   "outputs": [],
   "source": [
    "max_depth = [5, 10, 15, 20, 25, 30, None]"
   ]
  },
  {
   "cell_type": "code",
   "execution_count": 17,
   "metadata": {},
   "outputs": [],
   "source": [
    "def RandomForest(feature_variables, n_estimators, criterion, max_depth, random_state):\n",
    "         \n",
    "    #Define empty dataframe\n",
    "    df_Results = None\n",
    "    \n",
    "    #Fit & Run model\n",
    "    for d in max_depth:\n",
    "        #Define the model\n",
    "        regr = RandomForestRegressor(n_estimators=n_estimators, criterion=criterion, max_depth=d, random_state=random_state)\n",
    "            \n",
    "        #Set the training data\n",
    "        x_train = np.asanyarray(train[feature_variables])\n",
    "        y_train = np.asanyarray(train[['Mean_domestic_electricity_consumption_kWh_per_meter']])\n",
    "        \n",
    "        #Train the model on the set training data\n",
    "        regr.fit(x_train, y_train.ravel())\n",
    "        \n",
    "        #Predict results using the trained model and the previously defined test data\n",
    "        y_hat = regr.predict(test[feature_variables])\n",
    "    \n",
    "        x_test = np.asanyarray(test[feature_variables])\n",
    "        y_test = np.asanyarray(test[['Mean_domestic_electricity_consumption_kWh_per_meter']])\n",
    "        \n",
    "        #Check the shape of the data\n",
    "        y_test = np.squeeze(y_test)\n",
    "        y_test.shape\n",
    "        \n",
    "        #Run evaluation metrics to check the model performance & print results to notebook\n",
    "        print(\"RandomForest: max_depth=%.2f\" % d, feature_variables)\n",
    "        print(\"Explained Variance Score: %.2f\" % explained_variance_score(y_test, y_hat))\n",
    "        print(\"MAE: %.2f\" % mean_absolute_error(y_test, y_hat))\n",
    "        print(\"MSE: %.2f\" % mean_squared_error(y_test, y_hat))\n",
    "        print(\"R2-score: %.2f\" % r2_score(y_test, y_hat))\n",
    "        print(\" \")\n",
    "        \n",
    "        #Set up temporary results df\n",
    "        df = None\n",
    "        df = pd.DataFrame({'Explained Variance Score': [explained_variance_score(y_test, y_hat)]},\n",
    "                  index=[\"RandomForest: max_depth=%.2f\" % d])\n",
    "        df.insert(1,'MAE', mean_absolute_error(y_test, y_hat))\n",
    "        df.insert(2,'MSE', mean_squared_error(y_test, y_hat))\n",
    "        df.insert(3,'R2_score', r2_score(y_test, y_hat))\n",
    "        df.insert(0, 'Model', 'RandomForest')\n",
    "        df.insert(1, 'max_depth', d)\n",
    "        df.insert(2, 'Feature Variables', [feature_variables])                          \n",
    "        \n",
    "        #Add each df to master df\n",
    "        if df_Results is None:\n",
    "            df_Results = df\n",
    "        else:\n",
    "            df_Results = pd.concat([df_Results, df], axis=0)                   \n",
    "    \n",
    "    #Plot learning curve of R2_score\n",
    "    plt.scatter(df_Results.max_depth, df_Results.R2_score)\n",
    "    plt.xlabel(\"max_depth\")\n",
    "    plt.ylabel(\"R2_score\")\n",
    "    plt.title(\"Random Forest Learning Curve - R2\")\n",
    "    plt.show()\n",
    "\n",
    "    #Plot learning curve of MAE\n",
    "    plt.scatter(df_Results.max_depth, df_Results.MAE)\n",
    "    plt.xlabel(\"max_depth\")\n",
    "    plt.ylabel(\"MAE\")\n",
    "    plt.title(\"Random Forest Learning Curve - MAE\")\n",
    "    plt.show()\n",
    "    \n",
    "    return df_Results       \n",
    "    "
   ]
  },
  {
   "cell_type": "markdown",
   "metadata": {},
   "source": [
    "## 2.3.3.1 - Model Training & Evaluation (Feature Variables = Mean Price Paid, Year)"
   ]
  },
  {
   "cell_type": "markdown",
   "metadata": {},
   "source": [
    "In the first instance 'Year' and 'Mean Price Paid' are selected as feature variables to predict 'Mean_domestic_electricity_consumption_kWh_per_meter'.\n",
    "\n",
    "This model is expected to predict with a better fit relatively than the linear models where either 'Year' or 'Mean Price Paid' were taken as the sole feature variable as plotting of the data shows a (weak) positive correlation. From the previous simple linear model runs it is expected that 'Mean Price Paid' is the more dominant feature variable, but there is expected to be some degree of annual correlation that together could provide a better fit model.\n",
    "\n",
    "The Random Forest algorithm may be better at handling the variance in the data set but is still not expected to have an objectively good fit when only the above two feature variables are selected.\n",
    "\n",
    "As many factors affect electricity consumption it is expected that either a greater number of feature variables (or a model better able to deal with variance/complexity in the data) will provide a better fit. Noting that Random Forest is hypothesized to be one of the algorithms better able to fit to the dataset."
   ]
  },
  {
   "cell_type": "markdown",
   "metadata": {},
   "source": [
    "Random Forest has several hyperparameters that are used to refine the model. The hyperparameters varied within the below model runs are:\n",
    "\n",
    "1. Number of estimators - which is the number of trees in the forest, the default is set to 100 and increasing substantially has a knock on to run time.\n",
    "2. Criterion - whether the model averages based on MSE or MAE. MSE is substantially faster, with MAE throwing runtime and memory issues. Whilst MAE could be a better predictor this has therefore not been explored.\n",
    "3. Maximum depth of the tree - aka number of branches - the default is none with the model running until pure. The below runs through a series of model runs over a range of max_depth between 5 to 30, and none, to determine which max_depth provides the best fit model.\n",
    "4. Random State - It is not known the impact of this hyperparameter so a series of runs have again been trialled, on this occasion set to zero.\n",
    "\n",
    "All other hyperparameters are not specified and set to the default values."
   ]
  },
  {
   "cell_type": "code",
   "execution_count": 18,
   "metadata": {},
   "outputs": [],
   "source": [
    "max_depth = [5, 10, 15, 20, 25, 30]"
   ]
  },
  {
   "cell_type": "code",
   "execution_count": 19,
   "metadata": {},
   "outputs": [
    {
     "name": "stdout",
     "output_type": "stream",
     "text": [
      "RandomForest: max_depth=5.00 ['Mean_price_paid', 'Year']\n",
      "Explained Variance Score: 0.28\n",
      "MAE: 505.98\n",
      "MSE: 548701.27\n",
      "R2-score: 0.28\n",
      " \n",
      "RandomForest: max_depth=10.00 ['Mean_price_paid', 'Year']\n",
      "Explained Variance Score: 0.29\n",
      "MAE: 502.90\n",
      "MSE: 545491.37\n",
      "R2-score: 0.29\n",
      " \n",
      "RandomForest: max_depth=15.00 ['Mean_price_paid', 'Year']\n",
      "Explained Variance Score: 0.27\n",
      "MAE: 508.04\n",
      "MSE: 556795.87\n",
      "R2-score: 0.27\n",
      " \n",
      "RandomForest: max_depth=20.00 ['Mean_price_paid', 'Year']\n",
      "Explained Variance Score: 0.23\n",
      "MAE: 524.28\n",
      "MSE: 588641.07\n",
      "R2-score: 0.23\n",
      " \n",
      "RandomForest: max_depth=25.00 ['Mean_price_paid', 'Year']\n",
      "Explained Variance Score: 0.16\n",
      "MAE: 550.12\n",
      "MSE: 639213.40\n",
      "R2-score: 0.16\n",
      " \n",
      "RandomForest: max_depth=30.00 ['Mean_price_paid', 'Year']\n",
      "Explained Variance Score: 0.10\n",
      "MAE: 574.99\n",
      "MSE: 691636.08\n",
      "R2-score: 0.10\n",
      " \n"
     ]
    },
    {
     "data": {
      "image/png": "[encoded data removed]",
      "text/plain": [
       "<Figure size 432x288 with 1 Axes>"
      ]
     },
     "metadata": {},
     "output_type": "display_data"
    },
    {
     "data": {
      "image/png": "[encoded data removed]",
      "text/plain": [
       "<Figure size 432x288 with 1 Axes>"
      ]
     },
     "metadata": {},
     "output_type": "display_data"
    }
   ],
   "source": [
    "df_Results_1 = RandomForest(['Mean_price_paid','Year'], 80, 'mse', max_depth, 10)"
   ]
  },
  {
   "cell_type": "code",
   "execution_count": 20,
   "metadata": {},
   "outputs": [
    {
     "data": {
      "text/html": [
       "<div>\n",
       "<style scoped>\n",
       "    .dataframe tbody tr th:only-of-type {\n",
       "        vertical-align: middle;\n",
       "    }\n",
       "\n",
       "    .dataframe tbody tr th {\n",
       "        vertical-align: top;\n",
       "    }\n",
       "\n",
       "    .dataframe thead th {\n",
       "        text-align: right;\n",
       "    }\n",
       "</style>\n",
       "<table border=\"1\" class=\"dataframe\">\n",
       "  <thead>\n",
       "    <tr style=\"text-align: right;\">\n",
       "      <th></th>\n",
       "      <th>Model</th>\n",
       "      <th>max_depth</th>\n",
       "      <th>Feature Variables</th>\n",
       "      <th>Explained Variance Score</th>\n",
       "      <th>MAE</th>\n",
       "      <th>MSE</th>\n",
       "      <th>R2_score</th>\n",
       "    </tr>\n",
       "  </thead>\n",
       "  <tbody>\n",
       "    <tr>\n",
       "      <th>RandomForest: max_depth=5.00</th>\n",
       "      <td>RandomForest</td>\n",
       "      <td>5</td>\n",
       "      <td>[Mean_price_paid, Year]</td>\n",
       "      <td>0.283225</td>\n",
       "      <td>505.975694</td>\n",
       "      <td>548701.271557</td>\n",
       "      <td>0.283225</td>\n",
       "    </tr>\n",
       "    <tr>\n",
       "      <th>RandomForest: max_depth=10.00</th>\n",
       "      <td>RandomForest</td>\n",
       "      <td>10</td>\n",
       "      <td>[Mean_price_paid, Year]</td>\n",
       "      <td>0.287419</td>\n",
       "      <td>502.900525</td>\n",
       "      <td>545491.368823</td>\n",
       "      <td>0.287418</td>\n",
       "    </tr>\n",
       "    <tr>\n",
       "      <th>RandomForest: max_depth=15.00</th>\n",
       "      <td>RandomForest</td>\n",
       "      <td>15</td>\n",
       "      <td>[Mean_price_paid, Year]</td>\n",
       "      <td>0.272656</td>\n",
       "      <td>508.040697</td>\n",
       "      <td>556795.868065</td>\n",
       "      <td>0.272651</td>\n",
       "    </tr>\n",
       "    <tr>\n",
       "      <th>RandomForest: max_depth=20.00</th>\n",
       "      <td>RandomForest</td>\n",
       "      <td>20</td>\n",
       "      <td>[Mean_price_paid, Year]</td>\n",
       "      <td>0.231060</td>\n",
       "      <td>524.277830</td>\n",
       "      <td>588641.071648</td>\n",
       "      <td>0.231052</td>\n",
       "    </tr>\n",
       "    <tr>\n",
       "      <th>RandomForest: max_depth=25.00</th>\n",
       "      <td>RandomForest</td>\n",
       "      <td>25</td>\n",
       "      <td>[Mean_price_paid, Year]</td>\n",
       "      <td>0.164993</td>\n",
       "      <td>550.115073</td>\n",
       "      <td>639213.400186</td>\n",
       "      <td>0.164988</td>\n",
       "    </tr>\n",
       "    <tr>\n",
       "      <th>RandomForest: max_depth=30.00</th>\n",
       "      <td>RandomForest</td>\n",
       "      <td>30</td>\n",
       "      <td>[Mean_price_paid, Year]</td>\n",
       "      <td>0.096509</td>\n",
       "      <td>574.988141</td>\n",
       "      <td>691636.080771</td>\n",
       "      <td>0.096508</td>\n",
       "    </tr>\n",
       "  </tbody>\n",
       "</table>\n",
       "</div>"
      ],
      "text/plain": [
       "                                      Model  max_depth  \\\n",
       "RandomForest: max_depth=5.00   RandomForest          5   \n",
       "RandomForest: max_depth=10.00  RandomForest         10   \n",
       "RandomForest: max_depth=15.00  RandomForest         15   \n",
       "RandomForest: max_depth=20.00  RandomForest         20   \n",
       "RandomForest: max_depth=25.00  RandomForest         25   \n",
       "RandomForest: max_depth=30.00  RandomForest         30   \n",
       "\n",
       "                                     Feature Variables  \\\n",
       "RandomForest: max_depth=5.00   [Mean_price_paid, Year]   \n",
       "RandomForest: max_depth=10.00  [Mean_price_paid, Year]   \n",
       "RandomForest: max_depth=15.00  [Mean_price_paid, Year]   \n",
       "RandomForest: max_depth=20.00  [Mean_price_paid, Year]   \n",
       "RandomForest: max_depth=25.00  [Mean_price_paid, Year]   \n",
       "RandomForest: max_depth=30.00  [Mean_price_paid, Year]   \n",
       "\n",
       "                               Explained Variance Score         MAE  \\\n",
       "RandomForest: max_depth=5.00                   0.283225  505.975694   \n",
       "RandomForest: max_depth=10.00                  0.287419  502.900525   \n",
       "RandomForest: max_depth=15.00                  0.272656  508.040697   \n",
       "RandomForest: max_depth=20.00                  0.231060  524.277830   \n",
       "RandomForest: max_depth=25.00                  0.164993  550.115073   \n",
       "RandomForest: max_depth=30.00                  0.096509  574.988141   \n",
       "\n",
       "                                         MSE  R2_score  \n",
       "RandomForest: max_depth=5.00   548701.271557  0.283225  \n",
       "RandomForest: max_depth=10.00  545491.368823  0.287418  \n",
       "RandomForest: max_depth=15.00  556795.868065  0.272651  \n",
       "RandomForest: max_depth=20.00  588641.071648  0.231052  \n",
       "RandomForest: max_depth=25.00  639213.400186  0.164988  \n",
       "RandomForest: max_depth=30.00  691636.080771  0.096508  "
      ]
     },
     "execution_count": 20,
     "metadata": {},
     "output_type": "execute_result"
    }
   ],
   "source": [
    "df_Results_1"
   ]
  },
  {
   "cell_type": "markdown",
   "metadata": {},
   "source": [
    "Explained Variance - peaks at 0.287 with a max_depth of 10. This is higher than achieved over the linear or kNN algorithms. But the model still does not deal with the variance in the model.\n",
    "\n",
    "MAE - the MAE is marginally improved over the equivalent kNN model runs and linear models.\n",
    "\n",
    "MSE - is still high, reflecting a high risk of a low quality prediction.\n",
    "\n",
    "R2 - is 0.287, demonstrating the model 'fit' is still poor."
   ]
  },
  {
   "cell_type": "markdown",
   "metadata": {},
   "source": [
    "CONCLUSION:\n",
    "\n",
    "Overall the Random Forest algorithm with feature variables of 'mean price paid', 'year', performs best overall compared to kNN and linear model equivalent runs. A max_depth of 10 appears to provide the optimum achievable fit with these feature variables.\n",
    "\n",
    "However, an R2 score of 0.287 and a MAE of still >10% compared to the mean for the data set is still not a good enough fit to use the model in earnest. Further improvements through further model refinments, additional possible feature variables or alternative models would be required."
   ]
  },
  {
   "cell_type": "code",
   "execution_count": 21,
   "metadata": {},
   "outputs": [],
   "source": [
    "#Export results to csv"
   ]
  },
  {
   "cell_type": "code",
   "execution_count": 29,
   "metadata": {},
   "outputs": [],
   "source": [
    "df_Results_1.to_csv('2_ModelResults/RandomForest_Results_3.csv')"
   ]
  },
  {
   "cell_type": "markdown",
   "metadata": {},
   "source": [
    "## 2.3.3.2 - Model Training & Evaluation (Feature Variables = Mean Price Paid, Year, X, Y)"
   ]
  },
  {
   "cell_type": "markdown",
   "metadata": {},
   "source": [
    "Location as a feature variable is expected to improve the model and support better management of the variance in the data set.\n",
    "\n",
    "Location is denoted by two feature variables 'X' and 'Y' which represent the X, Y OS Coordinates of the population weighted centroid for each LSOA. Both are therefore implemented within the same model run."
   ]
  },
  {
   "cell_type": "markdown",
   "metadata": {},
   "source": [
    "The hyperparameters varied within the below model runs are:\n",
    "\n",
    "1. Number of estimators - which is the number of trees in the forest, the default is set to 100 and increasing substantially has a knock on to run time.\n",
    "2. Criterion - whether the model averages based on MSE or MAE. MSE is substantially faster, with MAE throwing runtime and memory issues. Whilst MAE could be a better predictor this has therefore not been explored.\n",
    "3. Maximum depth of the tree - aka number of branches - the default is none with the model running until pure. The below runs through a series of model runs over a range of max_depth between 5 to 40, and none, to determine which max_depth provides the best fit model.\n",
    "4. Random State - It is not known the impact of this hyperparameter so a series of runs have again been trialled, on this occasion set to zero.\n",
    "\n",
    "All other hyperparameters are not specified and set to the default values."
   ]
  },
  {
   "cell_type": "code",
   "execution_count": 23,
   "metadata": {},
   "outputs": [],
   "source": [
    "max_depth = [5, 10, 15, 20, 25, 30, 35, 40]"
   ]
  },
  {
   "cell_type": "code",
   "execution_count": 24,
   "metadata": {},
   "outputs": [
    {
     "name": "stdout",
     "output_type": "stream",
     "text": [
      "RandomForest: max_depth=5.00 ['Mean_price_paid', 'Year', 'X', 'Y']\n",
      "Explained Variance Score: 0.40\n",
      "MAE: 470.19\n",
      "MSE: 461547.38\n",
      "R2-score: 0.40\n",
      " \n",
      "RandomForest: max_depth=10.00 ['Mean_price_paid', 'Year', 'X', 'Y']\n",
      "Explained Variance Score: 0.59\n",
      "MAE: 392.42\n",
      "MSE: 312859.35\n",
      "R2-score: 0.59\n",
      " \n",
      "RandomForest: max_depth=15.00 ['Mean_price_paid', 'Year', 'X', 'Y']\n",
      "Explained Variance Score: 0.71\n",
      "MAE: 331.86\n",
      "MSE: 223137.02\n",
      "R2-score: 0.71\n",
      " \n",
      "RandomForest: max_depth=20.00 ['Mean_price_paid', 'Year', 'X', 'Y']\n",
      "Explained Variance Score: 0.75\n",
      "MAE: 303.52\n",
      "MSE: 188673.01\n",
      "R2-score: 0.75\n",
      " \n",
      "RandomForest: max_depth=25.00 ['Mean_price_paid', 'Year', 'X', 'Y']\n",
      "Explained Variance Score: 0.76\n",
      "MAE: 296.37\n",
      "MSE: 181688.94\n",
      "R2-score: 0.76\n",
      " \n",
      "RandomForest: max_depth=30.00 ['Mean_price_paid', 'Year', 'X', 'Y']\n",
      "Explained Variance Score: 0.76\n",
      "MAE: 295.22\n",
      "MSE: 180681.71\n",
      "R2-score: 0.76\n",
      " \n",
      "RandomForest: max_depth=35.00 ['Mean_price_paid', 'Year', 'X', 'Y']\n",
      "Explained Variance Score: 0.76\n",
      "MAE: 295.09\n",
      "MSE: 180619.40\n",
      "R2-score: 0.76\n",
      " \n",
      "RandomForest: max_depth=40.00 ['Mean_price_paid', 'Year', 'X', 'Y']\n",
      "Explained Variance Score: 0.76\n",
      "MAE: 295.15\n",
      "MSE: 180798.61\n",
      "R2-score: 0.76\n",
      " \n"
     ]
    },
    {
     "data": {
      "image/png": "[encoded data removed]",
      "text/plain": [
       "<Figure size 432x288 with 1 Axes>"
      ]
     },
     "metadata": {},
     "output_type": "display_data"
    },
    {
     "data": {
      "image/png": "[encoded data removed]",
      "text/plain": [
       "<Figure size 432x288 with 1 Axes>"
      ]
     },
     "metadata": {},
     "output_type": "display_data"
    }
   ],
   "source": [
    "df_Results_2 = RandomForest(['Mean_price_paid','Year', 'X', 'Y'], 80, 'mse', max_depth, 10)"
   ]
  },
  {
   "cell_type": "code",
   "execution_count": 25,
   "metadata": {},
   "outputs": [
    {
     "data": {
      "text/html": [
       "<div>\n",
       "<style scoped>\n",
       "    .dataframe tbody tr th:only-of-type {\n",
       "        vertical-align: middle;\n",
       "    }\n",
       "\n",
       "    .dataframe tbody tr th {\n",
       "        vertical-align: top;\n",
       "    }\n",
       "\n",
       "    .dataframe thead th {\n",
       "        text-align: right;\n",
       "    }\n",
       "</style>\n",
       "<table border=\"1\" class=\"dataframe\">\n",
       "  <thead>\n",
       "    <tr style=\"text-align: right;\">\n",
       "      <th></th>\n",
       "      <th>Model</th>\n",
       "      <th>max_depth</th>\n",
       "      <th>Feature Variables</th>\n",
       "      <th>Explained Variance Score</th>\n",
       "      <th>MAE</th>\n",
       "      <th>MSE</th>\n",
       "      <th>R2_score</th>\n",
       "    </tr>\n",
       "  </thead>\n",
       "  <tbody>\n",
       "    <tr>\n",
       "      <th>RandomForest: max_depth=5.00</th>\n",
       "      <td>RandomForest</td>\n",
       "      <td>5</td>\n",
       "      <td>[Mean_price_paid, Year, X, Y]</td>\n",
       "      <td>0.397075</td>\n",
       "      <td>470.187275</td>\n",
       "      <td>461547.378482</td>\n",
       "      <td>0.397075</td>\n",
       "    </tr>\n",
       "    <tr>\n",
       "      <th>RandomForest: max_depth=10.00</th>\n",
       "      <td>RandomForest</td>\n",
       "      <td>10</td>\n",
       "      <td>[Mean_price_paid, Year, X, Y]</td>\n",
       "      <td>0.591316</td>\n",
       "      <td>392.424389</td>\n",
       "      <td>312859.350007</td>\n",
       "      <td>0.591308</td>\n",
       "    </tr>\n",
       "    <tr>\n",
       "      <th>RandomForest: max_depth=15.00</th>\n",
       "      <td>RandomForest</td>\n",
       "      <td>15</td>\n",
       "      <td>[Mean_price_paid, Year, X, Y]</td>\n",
       "      <td>0.708560</td>\n",
       "      <td>331.862448</td>\n",
       "      <td>223137.018247</td>\n",
       "      <td>0.708514</td>\n",
       "    </tr>\n",
       "    <tr>\n",
       "      <th>RandomForest: max_depth=20.00</th>\n",
       "      <td>RandomForest</td>\n",
       "      <td>20</td>\n",
       "      <td>[Mean_price_paid, Year, X, Y]</td>\n",
       "      <td>0.753593</td>\n",
       "      <td>303.515995</td>\n",
       "      <td>188673.007795</td>\n",
       "      <td>0.753534</td>\n",
       "    </tr>\n",
       "    <tr>\n",
       "      <th>RandomForest: max_depth=25.00</th>\n",
       "      <td>RandomForest</td>\n",
       "      <td>25</td>\n",
       "      <td>[Mean_price_paid, Year, X, Y]</td>\n",
       "      <td>0.762704</td>\n",
       "      <td>296.372267</td>\n",
       "      <td>181688.936287</td>\n",
       "      <td>0.762658</td>\n",
       "    </tr>\n",
       "    <tr>\n",
       "      <th>RandomForest: max_depth=30.00</th>\n",
       "      <td>RandomForest</td>\n",
       "      <td>30</td>\n",
       "      <td>[Mean_price_paid, Year, X, Y]</td>\n",
       "      <td>0.764016</td>\n",
       "      <td>295.217795</td>\n",
       "      <td>180681.708041</td>\n",
       "      <td>0.763973</td>\n",
       "    </tr>\n",
       "    <tr>\n",
       "      <th>RandomForest: max_depth=35.00</th>\n",
       "      <td>RandomForest</td>\n",
       "      <td>35</td>\n",
       "      <td>[Mean_price_paid, Year, X, Y]</td>\n",
       "      <td>0.764098</td>\n",
       "      <td>295.092441</td>\n",
       "      <td>180619.404805</td>\n",
       "      <td>0.764055</td>\n",
       "    </tr>\n",
       "    <tr>\n",
       "      <th>RandomForest: max_depth=40.00</th>\n",
       "      <td>RandomForest</td>\n",
       "      <td>40</td>\n",
       "      <td>[Mean_price_paid, Year, X, Y]</td>\n",
       "      <td>0.763867</td>\n",
       "      <td>295.154711</td>\n",
       "      <td>180798.607362</td>\n",
       "      <td>0.763821</td>\n",
       "    </tr>\n",
       "  </tbody>\n",
       "</table>\n",
       "</div>"
      ],
      "text/plain": [
       "                                      Model  max_depth  \\\n",
       "RandomForest: max_depth=5.00   RandomForest          5   \n",
       "RandomForest: max_depth=10.00  RandomForest         10   \n",
       "RandomForest: max_depth=15.00  RandomForest         15   \n",
       "RandomForest: max_depth=20.00  RandomForest         20   \n",
       "RandomForest: max_depth=25.00  RandomForest         25   \n",
       "RandomForest: max_depth=30.00  RandomForest         30   \n",
       "RandomForest: max_depth=35.00  RandomForest         35   \n",
       "RandomForest: max_depth=40.00  RandomForest         40   \n",
       "\n",
       "                                           Feature Variables  \\\n",
       "RandomForest: max_depth=5.00   [Mean_price_paid, Year, X, Y]   \n",
       "RandomForest: max_depth=10.00  [Mean_price_paid, Year, X, Y]   \n",
       "RandomForest: max_depth=15.00  [Mean_price_paid, Year, X, Y]   \n",
       "RandomForest: max_depth=20.00  [Mean_price_paid, Year, X, Y]   \n",
       "RandomForest: max_depth=25.00  [Mean_price_paid, Year, X, Y]   \n",
       "RandomForest: max_depth=30.00  [Mean_price_paid, Year, X, Y]   \n",
       "RandomForest: max_depth=35.00  [Mean_price_paid, Year, X, Y]   \n",
       "RandomForest: max_depth=40.00  [Mean_price_paid, Year, X, Y]   \n",
       "\n",
       "                               Explained Variance Score         MAE  \\\n",
       "RandomForest: max_depth=5.00                   0.397075  470.187275   \n",
       "RandomForest: max_depth=10.00                  0.591316  392.424389   \n",
       "RandomForest: max_depth=15.00                  0.708560  331.862448   \n",
       "RandomForest: max_depth=20.00                  0.753593  303.515995   \n",
       "RandomForest: max_depth=25.00                  0.762704  296.372267   \n",
       "RandomForest: max_depth=30.00                  0.764016  295.217795   \n",
       "RandomForest: max_depth=35.00                  0.764098  295.092441   \n",
       "RandomForest: max_depth=40.00                  0.763867  295.154711   \n",
       "\n",
       "                                         MSE  R2_score  \n",
       "RandomForest: max_depth=5.00   461547.378482  0.397075  \n",
       "RandomForest: max_depth=10.00  312859.350007  0.591308  \n",
       "RandomForest: max_depth=15.00  223137.018247  0.708514  \n",
       "RandomForest: max_depth=20.00  188673.007795  0.753534  \n",
       "RandomForest: max_depth=25.00  181688.936287  0.762658  \n",
       "RandomForest: max_depth=30.00  180681.708041  0.763973  \n",
       "RandomForest: max_depth=35.00  180619.404805  0.764055  \n",
       "RandomForest: max_depth=40.00  180798.607362  0.763821  "
      ]
     },
     "execution_count": 25,
     "metadata": {},
     "output_type": "execute_result"
    }
   ],
   "source": [
    "df_Results_2"
   ]
  },
  {
   "cell_type": "markdown",
   "metadata": {},
   "source": [
    "Explained Variance - improvement appears to be levelling off at 35-40 max_depth at 0.764. This is higher than achieved over the linear or kNN algorithms and the earlier Random Forest model run without the location parameters. The model is dealing much better with variance.\n",
    "\n",
    "MAE - the MAE is significantly improved over the equivalent kNN model runs and linear models and predicts within ~7% of the mean electricity consumption for the data set.\n",
    "\n",
    "MSE - is also improved, but arguably still high with the possibility of a poor prediction.\n",
    "\n",
    "R2 - also appears to be levelling out at 0.764, demonstrating the model 'fit' is relatively 'good' - albeit improvements would still be looked for."
   ]
  },
  {
   "cell_type": "markdown",
   "metadata": {},
   "source": [
    "CONCLUSION:\n",
    "\n",
    "Overall the Random Forest algorithm with feature variables of 'mean price paid', 'year', 'X' and 'Y' performs best overall compared to kNN and linear model equivalent runs. A max_depth of 40 appears to provide the optimum achievable fit with these feature variables.\n",
    "\n",
    "The model is substantially improved compared to earlier algorithm/model choice and runs (differing feature variables and hyperparameters) but further improvements would still be looked for through addition of other possible feature variables and tuning of hyperparameters. "
   ]
  },
  {
   "cell_type": "code",
   "execution_count": 26,
   "metadata": {},
   "outputs": [],
   "source": [
    "#Export results to csv"
   ]
  },
  {
   "cell_type": "code",
   "execution_count": 30,
   "metadata": {},
   "outputs": [],
   "source": [
    "df_Results_2.to_csv('2_ModelResults/RandomForest_Results_4.csv')"
   ]
  },
  {
   "cell_type": "code",
   "execution_count": 28,
   "metadata": {},
   "outputs": [],
   "source": [
    "#END"
   ]
  }
 ],
 "metadata": {
  "kernelspec": {
   "display_name": "Python 3",
   "language": "python",
   "name": "python3"
  },
  "language_info": {
   "codemirror_mode": {
    "name": "ipython",
    "version": 3
   },
   "file_extension": ".py",
   "mimetype": "text/x-python",
   "name": "python",
   "nbconvert_exporter": "python",
   "pygments_lexer": "ipython3",
   "version": "3.6.5"
  }
 },
 "nbformat": 4,
 "nbformat_minor": 2
}
